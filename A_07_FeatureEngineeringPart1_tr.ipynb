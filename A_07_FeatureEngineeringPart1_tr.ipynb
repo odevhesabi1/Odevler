{
  "nbformat": 4,
  "nbformat_minor": 0,
  "metadata": {
    "hide_input": false,
    "kernelspec": {
      "display_name": "Python 3.8 (DJL)",
      "language": "python",
      "name": "djl"
    },
    "language_info": {
      "codemirror_mode": {
        "name": "ipython",
        "version": 3
      },
      "file_extension": ".py",
      "mimetype": "text/x-python",
      "name": "python",
      "nbconvert_exporter": "python",
      "pygments_lexer": "ipython3",
      "version": "3.8.5"
    },
    "latex_envs": {
      "LaTeX_envs_menu_present": true,
      "autoclose": false,
      "autocomplete": true,
      "bibliofile": "biblio.bib",
      "cite_by": "apalike",
      "current_citInitial": 1,
      "eqLabelWithNumbers": true,
      "eqNumInitial": 1,
      "hotkeys": {
        "equation": "Ctrl-E",
        "itemize": "Ctrl-I"
      },
      "labels_anchors": false,
      "latex_user_defs": false,
      "report_style_numbering": false,
      "user_envs_cfg": false
    },
    "toc": {
      "base_numbering": 1,
      "nav_menu": {
        "height": "78px",
        "width": "252px"
      },
      "number_sections": false,
      "sideBar": true,
      "skip_h1_title": false,
      "title_cell": "Table of Contents",
      "title_sidebar": "Contents",
      "toc_cell": false,
      "toc_position": {},
      "toc_section_display": "block",
      "toc_window_display": true
    },
    "varInspector": {
      "cols": {
        "lenName": 16,
        "lenType": 16,
        "lenVar": 40
      },
      "kernels_config": {
        "python": {
          "delete_cmd_postfix": "",
          "delete_cmd_prefix": "del ",
          "library": "var_list.py",
          "varRefreshCmd": "print(var_dic_list())"
        },
        "r": {
          "delete_cmd_postfix": ") ",
          "delete_cmd_prefix": "rm(",
          "library": "var_list.r",
          "varRefreshCmd": "cat(var_dic_list()) "
        }
      },
      "types_to_exclude": [
        "module",
        "function",
        "builtin_function_or_method",
        "instance",
        "_Feature"
      ],
      "window_display": false
    },
    "colab": {
      "name": "A_07_FeatureEngineeringPart1_tr.ipynb",
      "provenance": [],
      "include_colab_link": true
    }
  },
  "cells": [
    {
      "cell_type": "markdown",
      "metadata": {
        "id": "view-in-github",
        "colab_type": "text"
      },
      "source": [
        "<a href=\"https://colab.research.google.com/github/odevhesabi1/Odevler/blob/main/A_07_FeatureEngineeringPart1_tr.ipynb\" target=\"_parent\"><img src=\"https://colab.research.google.com/assets/colab-badge.svg\" alt=\"Open In Colab\"/></a>"
      ]
    },
    {
      "cell_type": "markdown",
      "metadata": {
        "id": "TAFXFeuZ86_a"
      },
      "source": [
        "Bu ödevde de [Öğrencilerin Sınav Performansı](https://www.kaggle.com/spscientist/students-performance-in-exams/home)'na  ait verileri kullanacaksınız. \n",
        "\n",
        "Bu ödevi tamamlamak için, aşağıdaki soruların çözümlerini içeren Jupyter notebook dosyasının Github linkini gönderin. Kafanıza takılan konuları mentörünüzle konuşabilir ya da ofis saatinde Slack üzerinden sorabilirsiniz.\n",
        "\n",
        "\n",
        "1. Sınav sonuçları normal dağılımlı mıdır? Değilse normal dağılıma sahip hale getirmek için ne yapabiliriz? \n",
        "\n",
        "2. Üç sınav sonucunu tek bir değişkende, hedef değişkeni olarak tutmak istiyoruz. Bunun için üç sınavın ortalamasını içeren yeni bir değişken tanımlayın. Bu yeni değişkenin ortalamasının normal dağılımlı olup olmadığını test edin. Eğer normal dağılıma sahip değilse dönüşüm yaparak normal dağılımlı hale getirmeye çalışın ve dönüşümün sonucunu test edin. \n",
        "\n",
        "3. Bir önceki soruda oluşturduğumuz hedef değişkeni ile hangi değişkenler ilişkili görünüyor? Eğer amacımız sınav başarısını belirleyen etkenleri açıklamak olsaydı hangi değişkenleri veri kümemizde tutmamız gerekirdi?"
      ]
    },
    {
      "cell_type": "code",
      "metadata": {
        "id": "ibI5d0lN9DLI"
      },
      "source": [
        "import pandas as pd\n",
        "import numpy as np\n",
        "import matplotlib.pyplot as plt\n",
        "\n",
        "df = pd.read_csv(\"StudentsPerformance.csv\")"
      ],
      "execution_count": 1,
      "outputs": []
    },
    {
      "cell_type": "code",
      "metadata": {
        "id": "G5f8zhFc9MIf",
        "outputId": "fc64c652-536f-499b-a625-6f0b39dcd376",
        "colab": {
          "base_uri": "https://localhost:8080/",
          "height": 204
        }
      },
      "source": [
        "df.head()"
      ],
      "execution_count": 2,
      "outputs": [
        {
          "output_type": "execute_result",
          "data": {
            "text/html": [
              "<div>\n",
              "<style scoped>\n",
              "    .dataframe tbody tr th:only-of-type {\n",
              "        vertical-align: middle;\n",
              "    }\n",
              "\n",
              "    .dataframe tbody tr th {\n",
              "        vertical-align: top;\n",
              "    }\n",
              "\n",
              "    .dataframe thead th {\n",
              "        text-align: right;\n",
              "    }\n",
              "</style>\n",
              "<table border=\"1\" class=\"dataframe\">\n",
              "  <thead>\n",
              "    <tr style=\"text-align: right;\">\n",
              "      <th></th>\n",
              "      <th>gender</th>\n",
              "      <th>race/ethnicity</th>\n",
              "      <th>parental level of education</th>\n",
              "      <th>lunch</th>\n",
              "      <th>test preparation course</th>\n",
              "      <th>math score</th>\n",
              "      <th>reading score</th>\n",
              "      <th>writing score</th>\n",
              "    </tr>\n",
              "  </thead>\n",
              "  <tbody>\n",
              "    <tr>\n",
              "      <th>0</th>\n",
              "      <td>female</td>\n",
              "      <td>group B</td>\n",
              "      <td>bachelor's degree</td>\n",
              "      <td>standard</td>\n",
              "      <td>none</td>\n",
              "      <td>72</td>\n",
              "      <td>72</td>\n",
              "      <td>74</td>\n",
              "    </tr>\n",
              "    <tr>\n",
              "      <th>1</th>\n",
              "      <td>female</td>\n",
              "      <td>group C</td>\n",
              "      <td>some college</td>\n",
              "      <td>standard</td>\n",
              "      <td>completed</td>\n",
              "      <td>69</td>\n",
              "      <td>90</td>\n",
              "      <td>88</td>\n",
              "    </tr>\n",
              "    <tr>\n",
              "      <th>2</th>\n",
              "      <td>female</td>\n",
              "      <td>group B</td>\n",
              "      <td>master's degree</td>\n",
              "      <td>standard</td>\n",
              "      <td>none</td>\n",
              "      <td>90</td>\n",
              "      <td>95</td>\n",
              "      <td>93</td>\n",
              "    </tr>\n",
              "    <tr>\n",
              "      <th>3</th>\n",
              "      <td>male</td>\n",
              "      <td>group A</td>\n",
              "      <td>associate's degree</td>\n",
              "      <td>free/reduced</td>\n",
              "      <td>none</td>\n",
              "      <td>47</td>\n",
              "      <td>57</td>\n",
              "      <td>44</td>\n",
              "    </tr>\n",
              "    <tr>\n",
              "      <th>4</th>\n",
              "      <td>male</td>\n",
              "      <td>group C</td>\n",
              "      <td>some college</td>\n",
              "      <td>standard</td>\n",
              "      <td>none</td>\n",
              "      <td>76</td>\n",
              "      <td>78</td>\n",
              "      <td>75</td>\n",
              "    </tr>\n",
              "  </tbody>\n",
              "</table>\n",
              "</div>"
            ],
            "text/plain": [
              "   gender race/ethnicity  ... reading score writing score\n",
              "0  female        group B  ...            72            74\n",
              "1  female        group C  ...            90            88\n",
              "2  female        group B  ...            95            93\n",
              "3    male        group A  ...            57            44\n",
              "4    male        group C  ...            78            75\n",
              "\n",
              "[5 rows x 8 columns]"
            ]
          },
          "metadata": {
            "tags": []
          },
          "execution_count": 2
        }
      ]
    },
    {
      "cell_type": "code",
      "metadata": {
        "id": "-JKRdPr5WLNd",
        "outputId": "38cc6db1-be88-4d7a-aebb-32cc5f67c031",
        "colab": {
          "base_uri": "https://localhost:8080/",
          "height": 343
        }
      },
      "source": [
        "df1= df.copy()\n",
        "df1[\"new_score_feature\"] =(df[\"math score\"] + df[\"reading score\"] + df[\"writing score\"]) / 3\n",
        "df1.head()"
      ],
      "execution_count": 40,
      "outputs": [
        {
          "output_type": "execute_result",
          "data": {
            "text/html": [
              "<div>\n",
              "<style scoped>\n",
              "    .dataframe tbody tr th:only-of-type {\n",
              "        vertical-align: middle;\n",
              "    }\n",
              "\n",
              "    .dataframe tbody tr th {\n",
              "        vertical-align: top;\n",
              "    }\n",
              "\n",
              "    .dataframe thead th {\n",
              "        text-align: right;\n",
              "    }\n",
              "</style>\n",
              "<table border=\"1\" class=\"dataframe\">\n",
              "  <thead>\n",
              "    <tr style=\"text-align: right;\">\n",
              "      <th></th>\n",
              "      <th>gender</th>\n",
              "      <th>race/ethnicity</th>\n",
              "      <th>parental level of education</th>\n",
              "      <th>lunch</th>\n",
              "      <th>test preparation course</th>\n",
              "      <th>math score</th>\n",
              "      <th>reading score</th>\n",
              "      <th>writing score</th>\n",
              "      <th>norm math score</th>\n",
              "      <th>norm reading score</th>\n",
              "      <th>norm writing score</th>\n",
              "      <th>winsorize_math_score</th>\n",
              "      <th>winsorize_reading_score</th>\n",
              "      <th>winsorize_writing_score</th>\n",
              "      <th>norm_winsorize_math_score</th>\n",
              "      <th>norm_winsorize_reading_score</th>\n",
              "      <th>norm_winsorize_writing_score</th>\n",
              "      <th>new_score_feature</th>\n",
              "    </tr>\n",
              "  </thead>\n",
              "  <tbody>\n",
              "    <tr>\n",
              "      <th>0</th>\n",
              "      <td>female</td>\n",
              "      <td>group B</td>\n",
              "      <td>bachelor's degree</td>\n",
              "      <td>standard</td>\n",
              "      <td>none</td>\n",
              "      <td>72</td>\n",
              "      <td>72</td>\n",
              "      <td>74</td>\n",
              "      <td>0.03358</td>\n",
              "      <td>0.03221</td>\n",
              "      <td>0.03356</td>\n",
              "      <td>72</td>\n",
              "      <td>72</td>\n",
              "      <td>74</td>\n",
              "      <td>0.03357</td>\n",
              "      <td>0.03220</td>\n",
              "      <td>0.03354</td>\n",
              "      <td>72.66667</td>\n",
              "    </tr>\n",
              "    <tr>\n",
              "      <th>1</th>\n",
              "      <td>female</td>\n",
              "      <td>group C</td>\n",
              "      <td>some college</td>\n",
              "      <td>standard</td>\n",
              "      <td>completed</td>\n",
              "      <td>69</td>\n",
              "      <td>90</td>\n",
              "      <td>88</td>\n",
              "      <td>0.03218</td>\n",
              "      <td>0.04026</td>\n",
              "      <td>0.03991</td>\n",
              "      <td>69</td>\n",
              "      <td>90</td>\n",
              "      <td>88</td>\n",
              "      <td>0.03217</td>\n",
              "      <td>0.04025</td>\n",
              "      <td>0.03989</td>\n",
              "      <td>82.33333</td>\n",
              "    </tr>\n",
              "    <tr>\n",
              "      <th>2</th>\n",
              "      <td>female</td>\n",
              "      <td>group B</td>\n",
              "      <td>master's degree</td>\n",
              "      <td>standard</td>\n",
              "      <td>none</td>\n",
              "      <td>90</td>\n",
              "      <td>95</td>\n",
              "      <td>93</td>\n",
              "      <td>0.04197</td>\n",
              "      <td>0.04250</td>\n",
              "      <td>0.04218</td>\n",
              "      <td>90</td>\n",
              "      <td>95</td>\n",
              "      <td>93</td>\n",
              "      <td>0.04196</td>\n",
              "      <td>0.04248</td>\n",
              "      <td>0.04216</td>\n",
              "      <td>92.66667</td>\n",
              "    </tr>\n",
              "    <tr>\n",
              "      <th>3</th>\n",
              "      <td>male</td>\n",
              "      <td>group A</td>\n",
              "      <td>associate's degree</td>\n",
              "      <td>free/reduced</td>\n",
              "      <td>none</td>\n",
              "      <td>47</td>\n",
              "      <td>57</td>\n",
              "      <td>44</td>\n",
              "      <td>0.02192</td>\n",
              "      <td>0.02550</td>\n",
              "      <td>0.01995</td>\n",
              "      <td>47</td>\n",
              "      <td>57</td>\n",
              "      <td>44</td>\n",
              "      <td>0.02191</td>\n",
              "      <td>0.02549</td>\n",
              "      <td>0.01995</td>\n",
              "      <td>49.33333</td>\n",
              "    </tr>\n",
              "    <tr>\n",
              "      <th>4</th>\n",
              "      <td>male</td>\n",
              "      <td>group C</td>\n",
              "      <td>some college</td>\n",
              "      <td>standard</td>\n",
              "      <td>none</td>\n",
              "      <td>76</td>\n",
              "      <td>78</td>\n",
              "      <td>75</td>\n",
              "      <td>0.03545</td>\n",
              "      <td>0.03489</td>\n",
              "      <td>0.03401</td>\n",
              "      <td>76</td>\n",
              "      <td>78</td>\n",
              "      <td>75</td>\n",
              "      <td>0.03543</td>\n",
              "      <td>0.03488</td>\n",
              "      <td>0.03400</td>\n",
              "      <td>76.33333</td>\n",
              "    </tr>\n",
              "  </tbody>\n",
              "</table>\n",
              "</div>"
            ],
            "text/plain": [
              "   gender race/ethnicity  ... norm_winsorize_writing_score new_score_feature\n",
              "0  female        group B  ...                      0.03354          72.66667\n",
              "1  female        group C  ...                      0.03989          82.33333\n",
              "2  female        group B  ...                      0.04216          92.66667\n",
              "3    male        group A  ...                      0.01995          49.33333\n",
              "4    male        group C  ...                      0.03400          76.33333\n",
              "\n",
              "[5 rows x 18 columns]"
            ]
          },
          "metadata": {
            "tags": []
          },
          "execution_count": 40
        }
      ]
    },
    {
      "cell_type": "code",
      "metadata": {
        "id": "1sQ_Gp_UFU86",
        "outputId": "919f6f42-afbd-452e-d451-7d67ff80a626",
        "colab": {
          "base_uri": "https://localhost:8080/",
          "height": 320
        }
      },
      "source": [
        "plt.figure(figsize=(12,5))\n",
        "\n",
        "plt.subplot(1,3,1)\n",
        "plt.boxplot(df[\"math score\"])\n",
        "plt.subplot(1,3,2)\n",
        "plt.boxplot(df[\"reading score\"])\n",
        "plt.subplot(1,3,3)\n",
        "plt.boxplot(df[\"writing score\"])\n",
        "\n",
        "plt.show()\n"
      ],
      "execution_count": 3,
      "outputs": [
        {
          "output_type": "display_data",
          "data": {
            "image/png": "[encoded data removed]",
            "text/plain": [
              "<Figure size 864x360 with 3 Axes>"
            ]
          },
          "metadata": {
            "tags": [],
            "needs_background": "light"
          }
        }
      ]
    },
    {
      "cell_type": "code",
      "metadata": {
        "id": "g8iOnFDZmLHg",
        "outputId": "966f779c-d8a5-49f4-d279-2db83b09c21f",
        "colab": {
          "base_uri": "https://localhost:8080/",
          "height": 421
        }
      },
      "source": [
        "from scipy.stats import zscore\n",
        "columns = [\"math score\",\"reading score\", \"writing score\"]\n",
        "df_aykiri = pd.DataFrame()\n",
        "\n",
        "for column in columns:\n",
        "  for threshold in range(1,5):\n",
        "    z_scores = zscore(df[column])\n",
        "    aykiri_deger_sayisi = len((np.where(z_scores > threshold)[0]))\n",
        "    df_aykiri = df_aykiri.append({\"feature\": column, \"aykiri değer sayısı\" : aykiri_deger_sayisi, \"eşik değeri\" : threshold}, ignore_index=True)\n",
        "\n",
        "df_aykiri\n",
        "\n",
        "##Sonuca göre, aykiri değer sayısının fazla olup olmadığına karar veremedim. Benim yorumum veride aykırı değer yok. Threshold = 2 için her feature'da 18-20 tane\n",
        "#aykiri değer görünsede, bana en azından bu veriseti için aykırı değer gibi gelmedi. O yüzden aykiri değer düzeltmesi yapmadan cevaplara\n",
        "#devam ediyorum."
      ],
      "execution_count": 4,
      "outputs": [
        {
          "output_type": "execute_result",
          "data": {
            "text/html": [
              "<div>\n",
              "<style scoped>\n",
              "    .dataframe tbody tr th:only-of-type {\n",
              "        vertical-align: middle;\n",
              "    }\n",
              "\n",
              "    .dataframe tbody tr th {\n",
              "        vertical-align: top;\n",
              "    }\n",
              "\n",
              "    .dataframe thead th {\n",
              "        text-align: right;\n",
              "    }\n",
              "</style>\n",
              "<table border=\"1\" class=\"dataframe\">\n",
              "  <thead>\n",
              "    <tr style=\"text-align: right;\">\n",
              "      <th></th>\n",
              "      <th>aykiri değer sayısı</th>\n",
              "      <th>eşik değeri</th>\n",
              "      <th>feature</th>\n",
              "    </tr>\n",
              "  </thead>\n",
              "  <tbody>\n",
              "    <tr>\n",
              "      <th>0</th>\n",
              "      <td>154.0</td>\n",
              "      <td>1.0</td>\n",
              "      <td>math score</td>\n",
              "    </tr>\n",
              "    <tr>\n",
              "      <th>1</th>\n",
              "      <td>19.0</td>\n",
              "      <td>2.0</td>\n",
              "      <td>math score</td>\n",
              "    </tr>\n",
              "    <tr>\n",
              "      <th>2</th>\n",
              "      <td>0.0</td>\n",
              "      <td>3.0</td>\n",
              "      <td>math score</td>\n",
              "    </tr>\n",
              "    <tr>\n",
              "      <th>3</th>\n",
              "      <td>0.0</td>\n",
              "      <td>4.0</td>\n",
              "      <td>math score</td>\n",
              "    </tr>\n",
              "    <tr>\n",
              "      <th>4</th>\n",
              "      <td>176.0</td>\n",
              "      <td>1.0</td>\n",
              "      <td>reading score</td>\n",
              "    </tr>\n",
              "    <tr>\n",
              "      <th>5</th>\n",
              "      <td>20.0</td>\n",
              "      <td>2.0</td>\n",
              "      <td>reading score</td>\n",
              "    </tr>\n",
              "    <tr>\n",
              "      <th>6</th>\n",
              "      <td>0.0</td>\n",
              "      <td>3.0</td>\n",
              "      <td>reading score</td>\n",
              "    </tr>\n",
              "    <tr>\n",
              "      <th>7</th>\n",
              "      <td>0.0</td>\n",
              "      <td>4.0</td>\n",
              "      <td>reading score</td>\n",
              "    </tr>\n",
              "    <tr>\n",
              "      <th>8</th>\n",
              "      <td>151.0</td>\n",
              "      <td>1.0</td>\n",
              "      <td>writing score</td>\n",
              "    </tr>\n",
              "    <tr>\n",
              "      <th>9</th>\n",
              "      <td>18.0</td>\n",
              "      <td>2.0</td>\n",
              "      <td>writing score</td>\n",
              "    </tr>\n",
              "    <tr>\n",
              "      <th>10</th>\n",
              "      <td>0.0</td>\n",
              "      <td>3.0</td>\n",
              "      <td>writing score</td>\n",
              "    </tr>\n",
              "    <tr>\n",
              "      <th>11</th>\n",
              "      <td>0.0</td>\n",
              "      <td>4.0</td>\n",
              "      <td>writing score</td>\n",
              "    </tr>\n",
              "  </tbody>\n",
              "</table>\n",
              "</div>"
            ],
            "text/plain": [
              "    aykiri değer sayısı  eşik değeri        feature\n",
              "0                 154.0          1.0     math score\n",
              "1                  19.0          2.0     math score\n",
              "2                   0.0          3.0     math score\n",
              "3                   0.0          4.0     math score\n",
              "4                 176.0          1.0  reading score\n",
              "5                  20.0          2.0  reading score\n",
              "6                   0.0          3.0  reading score\n",
              "7                   0.0          4.0  reading score\n",
              "8                 151.0          1.0  writing score\n",
              "9                  18.0          2.0  writing score\n",
              "10                  0.0          3.0  writing score\n",
              "11                  0.0          4.0  writing score"
            ]
          },
          "metadata": {
            "tags": []
          },
          "execution_count": 4
        }
      ]
    },
    {
      "cell_type": "code",
      "metadata": {
        "id": "UjllSAzqDttw",
        "outputId": "f999708e-be5c-47bd-ff93-a2e2d8bd14ee",
        "colab": {
          "base_uri": "https://localhost:8080/",
          "height": 336
        }
      },
      "source": [
        "## Verilerin normal dağılımlı olup olmadığının incelemek için hist ile verilerin dağılım grafiğini kontrol ediyorum.\n",
        "# Sonuca göre veriler tam olarak normal dağılıma sahip görünmese de sağda ve solda kuyruklar oluşmuş, yine de bir ortada\n",
        "#kümelenme trendi görüyorum.\n",
        "\n",
        "\n",
        "\n",
        "plt.figure(figsize=(12,5))\n",
        "\n",
        "plt.subplot(1,3,1)\n",
        "plt.hist(df[\"math score\"])\n",
        "plt.title(\"math score\")\n",
        "\n",
        "plt.subplot(1,3,2)\n",
        "plt.hist(df[\"reading score\"])\n",
        "plt.title(\"reading score\")\n",
        "\n",
        "plt.subplot(1,3,3)\n",
        "plt.hist(df[\"writing score\"])\n",
        "plt.title(\"writing score\")\n",
        "\n",
        "plt.show()\n",
        "\n"
      ],
      "execution_count": 5,
      "outputs": [
        {
          "output_type": "display_data",
          "data": {
            "image/png": "[encoded data removed]",
            "text/plain": [
              "<Figure size 864x360 with 3 Axes>"
            ]
          },
          "metadata": {
            "tags": [],
            "needs_background": "light"
          }
        }
      ]
    },
    {
      "cell_type": "code",
      "metadata": {
        "id": "9lZSmUqLExkZ",
        "outputId": "d0106219-8889-40df-9139-d8f58d923e3f",
        "colab": {
          "base_uri": "https://localhost:8080/",
          "height": 244
        }
      },
      "source": [
        "## Verilerin normal dağılıp dağılmadığını istatistiksel olarak inceleyelim.\n",
        "\n",
        "from scipy.stats import jarque_bera\n",
        "from scipy.stats import normaltest\n",
        "\n",
        "pd.options.display.float_format = '{:.5f}'.format\n",
        "\n",
        "ozellikler = [\"math score\", \"reading score\", \"writing score\"]\n",
        "dagilim_testleri = pd.DataFrame(columns=['ozellik', 'jarque_bera_stats', 'jarque_bera_p_value', \n",
        "                                         'normal_stats', 'normal_p_value'])\n",
        "\n",
        "for ozellik in ozellikler:\n",
        "    jb_stats = jarque_bera(np.log(df[ozellik]))\n",
        "    norm_stats = normaltest(np.log(df[ozellik]))\n",
        "    dagilim_testleri = dagilim_testleri.append({\"ozellik\": ozellik,\n",
        "                                                \"jarque_bera_stats\" : jb_stats[0] ,\n",
        "                                                \"jarque_bera_p_value\" : jb_stats[1] ,\n",
        "                                                \"normal_stats\": norm_stats[0] , \n",
        "                                                \"normal_p_value\" : norm_stats[1]\n",
        "                                               }, ignore_index=True)\n",
        "dagilim_testleri\n",
        "\n",
        "## Math score için neden istatistiksel değerleri vermediğini anlamadım. Ancak 3 feature'ın da dağılımları hemen hemen birbirine benzediğinden \n",
        "# math score istatistiklerinin de benzer olduğunu düşünüp hareket ediyorum. \n"
      ],
      "execution_count": 6,
      "outputs": [
        {
          "output_type": "stream",
          "text": [
            "/usr/local/lib/python3.7/dist-packages/pandas/core/series.py:726: RuntimeWarning: divide by zero encountered in log\n",
            "  result = getattr(ufunc, method)(*inputs, **kwargs)\n",
            "/usr/local/lib/python3.7/dist-packages/scipy/stats/stats.py:1687: RuntimeWarning: invalid value encountered in subtract\n",
            "  diffx = x - mu\n",
            "/usr/local/lib/python3.7/dist-packages/scipy/stats/stats.py:1010: RuntimeWarning: invalid value encountered in subtract\n",
            "  a_zero_mean = a - np.expand_dims(np.mean(a, axis), axis)\n"
          ],
          "name": "stderr"
        },
        {
          "output_type": "execute_result",
          "data": {
            "text/html": [
              "<div>\n",
              "<style scoped>\n",
              "    .dataframe tbody tr th:only-of-type {\n",
              "        vertical-align: middle;\n",
              "    }\n",
              "\n",
              "    .dataframe tbody tr th {\n",
              "        vertical-align: top;\n",
              "    }\n",
              "\n",
              "    .dataframe thead th {\n",
              "        text-align: right;\n",
              "    }\n",
              "</style>\n",
              "<table border=\"1\" class=\"dataframe\">\n",
              "  <thead>\n",
              "    <tr style=\"text-align: right;\">\n",
              "      <th></th>\n",
              "      <th>ozellik</th>\n",
              "      <th>jarque_bera_stats</th>\n",
              "      <th>jarque_bera_p_value</th>\n",
              "      <th>normal_stats</th>\n",
              "      <th>normal_p_value</th>\n",
              "    </tr>\n",
              "  </thead>\n",
              "  <tbody>\n",
              "    <tr>\n",
              "      <th>0</th>\n",
              "      <td>math score</td>\n",
              "      <td>nan</td>\n",
              "      <td>nan</td>\n",
              "      <td>nan</td>\n",
              "      <td>nan</td>\n",
              "    </tr>\n",
              "    <tr>\n",
              "      <th>1</th>\n",
              "      <td>reading score</td>\n",
              "      <td>495.12732</td>\n",
              "      <td>0.00000</td>\n",
              "      <td>209.77151</td>\n",
              "      <td>0.00000</td>\n",
              "    </tr>\n",
              "    <tr>\n",
              "      <th>2</th>\n",
              "      <td>writing score</td>\n",
              "      <td>1410.93701</td>\n",
              "      <td>0.00000</td>\n",
              "      <td>318.96921</td>\n",
              "      <td>0.00000</td>\n",
              "    </tr>\n",
              "  </tbody>\n",
              "</table>\n",
              "</div>"
            ],
            "text/plain": [
              "         ozellik  jarque_bera_stats  ...  normal_stats  normal_p_value\n",
              "0     math score                nan  ...           nan             nan\n",
              "1  reading score          495.12732  ...     209.77151         0.00000\n",
              "2  writing score         1410.93701  ...     318.96921         0.00000\n",
              "\n",
              "[3 rows x 5 columns]"
            ]
          },
          "metadata": {
            "tags": []
          },
          "execution_count": 6
        }
      ]
    },
    {
      "cell_type": "code",
      "metadata": {
        "id": "6spInaGP2Aha",
        "outputId": "8bef368c-edf7-496d-fd68-d8c92ee84789",
        "colab": {
          "base_uri": "https://localhost:8080/"
        }
      },
      "source": [
        "# Cevap 1 - : Verileri normal hale getirmek için normalize etmeyi tercih ediyorum.\n",
        "\n",
        "\n",
        "from sklearn.preprocessing import normalize\n",
        "\n",
        "df[\"norm math score\"] = normalize(np.array(df[\"math score\"]).reshape(1,-1)).reshape(-1,1)\n",
        "df[\"norm reading score\"] = normalize(np.array(df[\"reading score\"]).reshape(1,-1)).reshape(-1,1)\n",
        "df[\"norm writing score\"] = normalize(np.array(df[\"writing score\"]).reshape(1,-1)).reshape(-1,1)\n",
        "normal_ozellikler=[\"math score\", \"norm math score\", \"reading score\", \"norm reading score\", \"writing score\", \"norm writing score\"]\n",
        "\n",
        "\n",
        "print('Minimum Değer\\n-----------------',)\n",
        "print(df[normal_ozellikler].min())\n",
        "print('\\nMaksimum Değer\\n-----------------',)\n",
        "print(df[normal_ozellikler].max())\n",
        "\n",
        "## Sadece matematik dersinde minimum skor olarak 0 var. Diğer derslerde minmum skorlar 0 değil. Yukarıda matematik skoru için\n",
        "#jarquera bera istatistiklerinin nan dönmesinin sebebi minimum skorun 0 olması olabilir.\n",
        "\n",
        "# Bunun için daha gerek olmadığını düşündüğüm winsorize'ı, bir sonraki satırda uygulayıp tekrar jarquera stats sonuçlarını görüp normalize\n",
        "#etmeyi deneyeceğim."
      ],
      "execution_count": 7,
      "outputs": [
        {
          "output_type": "stream",
          "text": [
            "Minimum Değer\n",
            "-----------------\n",
            "math score            0.00000\n",
            "norm math score       0.00000\n",
            "reading score        17.00000\n",
            "norm reading score    0.00760\n",
            "writing score        10.00000\n",
            "norm writing score    0.00454\n",
            "dtype: float64\n",
            "\n",
            "Maksimum Değer\n",
            "-----------------\n",
            "math score           100.00000\n",
            "norm math score        0.04664\n",
            "reading score        100.00000\n",
            "norm reading score     0.04473\n",
            "writing score        100.00000\n",
            "norm writing score     0.04535\n",
            "dtype: float64\n"
          ],
          "name": "stdout"
        }
      ]
    },
    {
      "cell_type": "code",
      "metadata": {
        "id": "6-YK6d9C1zPE",
        "outputId": "b6721ae7-2108-4e6b-c995-21c1f0b35f7e",
        "colab": {
          "base_uri": "https://localhost:8080/",
          "height": 336
        }
      },
      "source": [
        "from scipy.stats.mstats import winsorize\n",
        "\n",
        "winsorize_math_score = winsorize(df[\"math score\"], (0.01, 0))\n",
        "df[\"winsorize_math_score\"] = winsorize_math_score\n",
        "\n",
        "winsorize_reading_score = winsorize(df[\"reading score\"], (0.01, 0))\n",
        "df[\"winsorize_reading_score\"] = winsorize_reading_score\n",
        "\n",
        "winsorize_writing_score = winsorize(df[\"writing score\"], (0.01, 0))\n",
        "df[\"winsorize_writing_score\"] = winsorize_writing_score\n",
        "\n",
        "plt.figure(figsize=(14,5))\n",
        "\n",
        "plt.subplot(1,3,1)\n",
        "plt.boxplot(df[\"winsorize_math_score\"])\n",
        "plt.title(\"winsorize math\")\n",
        "\n",
        "plt.subplot(1,3,2)\n",
        "plt.boxplot(df[\"winsorize_reading_score\"])\n",
        "plt.title(\"winsorize reading\")\n",
        "\n",
        "plt.subplot(1,3,3)\n",
        "plt.boxplot(df[\"winsorize_writing_score\"])\n",
        "plt.title(\"winsorize writing\")\n",
        "plt.show()"
      ],
      "execution_count": 8,
      "outputs": [
        {
          "output_type": "display_data",
          "data": {
            "image/png": "[encoded data removed]",
            "text/plain": [
              "<Figure size 1008x360 with 3 Axes>"
            ]
          },
          "metadata": {
            "tags": [],
            "needs_background": "light"
          }
        }
      ]
    },
    {
      "cell_type": "code",
      "metadata": {
        "id": "D4S7qmFR8ixg",
        "outputId": "760fa205-dc70-4a9f-eab0-75a70c4b7d66",
        "colab": {
          "base_uri": "https://localhost:8080/",
          "height": 142
        }
      },
      "source": [
        "\n",
        "from scipy.stats import jarque_bera\n",
        "from scipy.stats import normaltest\n",
        "\n",
        "pd.options.display.float_format = '{:.5f}'.format\n",
        "\n",
        "ozellikler = [\"winsorize_math_score\", \"winsorize_reading_score\", \"winsorize_writing_score\"]\n",
        "dagilim_testleri = pd.DataFrame(columns=['ozellik', 'jarque_bera_stats', 'jarque_bera_p_value', \n",
        "                                         'normal_stats', 'normal_p_value'])\n",
        "\n",
        "for ozellik in ozellikler:\n",
        "    jb_stats = jarque_bera(np.log(df[ozellik]))\n",
        "    norm_stats = normaltest(np.log(df[ozellik]))\n",
        "    dagilim_testleri = dagilim_testleri.append({\"ozellik\": ozellik,\n",
        "                                                \"jarque_bera_stats\" : jb_stats[0] ,\n",
        "                                                \"jarque_bera_p_value\" : jb_stats[1] ,\n",
        "                                                \"normal_stats\": norm_stats[0] , \n",
        "                                                \"normal_p_value\" : norm_stats[1]\n",
        "                                               }, ignore_index=True)\n",
        "dagilim_testleri\n",
        "\n",
        "\n",
        "#Jarqu bera istatistiklerinin tam olarak ne anlama geldiğini yorumlayamıyorum, buraya da bakabilir miyiz.\n",
        "\n",
        "#Aykırı değerleri temizleyince matematik skoru için jarqure istatistik sonuçlarını görebildik. O yüzden 31. satırda aykırı değerleri\n",
        "#temizlememek ile yaptığım yorumlar yanlış cıktı sanırım. Bu bundan sonra nasıl bir veri seti ile çalışırsam çalışayım, aykırı değer\n",
        "#değer sayısı az görünse bile mutlaka aykırı\n",
        "#değer temizleme yöntemlerini ( mesela winsorize, hem uygulaması kolay) uygulamam gerektiği sonucunu cıkarıyorum."
      ],
      "execution_count": 9,
      "outputs": [
        {
          "output_type": "execute_result",
          "data": {
            "text/html": [
              "<div>\n",
              "<style scoped>\n",
              "    .dataframe tbody tr th:only-of-type {\n",
              "        vertical-align: middle;\n",
              "    }\n",
              "\n",
              "    .dataframe tbody tr th {\n",
              "        vertical-align: top;\n",
              "    }\n",
              "\n",
              "    .dataframe thead th {\n",
              "        text-align: right;\n",
              "    }\n",
              "</style>\n",
              "<table border=\"1\" class=\"dataframe\">\n",
              "  <thead>\n",
              "    <tr style=\"text-align: right;\">\n",
              "      <th></th>\n",
              "      <th>ozellik</th>\n",
              "      <th>jarque_bera_stats</th>\n",
              "      <th>jarque_bera_p_value</th>\n",
              "      <th>normal_stats</th>\n",
              "      <th>normal_p_value</th>\n",
              "    </tr>\n",
              "  </thead>\n",
              "  <tbody>\n",
              "    <tr>\n",
              "      <th>0</th>\n",
              "      <td>winsorize_math_score</td>\n",
              "      <td>163.67135</td>\n",
              "      <td>0.00000</td>\n",
              "      <td>116.11837</td>\n",
              "      <td>0.00000</td>\n",
              "    </tr>\n",
              "    <tr>\n",
              "      <th>1</th>\n",
              "      <td>winsorize_reading_score</td>\n",
              "      <td>125.13478</td>\n",
              "      <td>0.00000</td>\n",
              "      <td>96.63811</td>\n",
              "      <td>0.00000</td>\n",
              "    </tr>\n",
              "    <tr>\n",
              "      <th>2</th>\n",
              "      <td>winsorize_writing_score</td>\n",
              "      <td>101.38106</td>\n",
              "      <td>0.00000</td>\n",
              "      <td>82.58149</td>\n",
              "      <td>0.00000</td>\n",
              "    </tr>\n",
              "  </tbody>\n",
              "</table>\n",
              "</div>"
            ],
            "text/plain": [
              "                   ozellik  jarque_bera_stats  ...  normal_stats  normal_p_value\n",
              "0     winsorize_math_score          163.67135  ...     116.11837         0.00000\n",
              "1  winsorize_reading_score          125.13478  ...      96.63811         0.00000\n",
              "2  winsorize_writing_score          101.38106  ...      82.58149         0.00000\n",
              "\n",
              "[3 rows x 5 columns]"
            ]
          },
          "metadata": {
            "tags": []
          },
          "execution_count": 9
        }
      ]
    },
    {
      "cell_type": "code",
      "metadata": {
        "id": "wLIRoLvt57E3",
        "outputId": "5af0d91c-7776-45c4-bac2-ecc4bcec1b26",
        "colab": {
          "base_uri": "https://localhost:8080/",
          "height": 815
        }
      },
      "source": [
        "## Aykırı değerleri de temizledikten sonra, logaritma dönüşümü yapıp dağılımların grafiğini karsılastırıyoruz.\n",
        "\n",
        "degiskenler = [\"math score\", \"reading score\", \"writing score\"]\n",
        "winsorize_degiskenler = [\"winsorize_math_score\", \"winsorize_reading_score\", \"winsorize_writing_score\"]\n",
        "\n",
        "plt.figure(figsize=(14,6))\n",
        "\n",
        "for i in range(3):\n",
        "  plt.subplot(3,3,i+1)\n",
        "  plt.hist(df[degiskenler[i]])\n",
        "  plt.title(degiskenler[i])\n",
        "\n",
        "for i in range(3):\n",
        "  plt.subplot(3,3,i+4)\n",
        "  plt.hist(df[winsorize_degiskenler[i]])\n",
        "  plt.title(winsorize_degiskenler[i])\n",
        "\n",
        "\n",
        "for i in range(3):\n",
        "    plt.subplot(3, 3, i+7)\n",
        "    plt.hist(np.log(df[degiskenler[i]]))\n",
        "    plt.title(degiskenler[i] + ' (log dönüşümlü)')\n",
        "\n",
        "## Logaritma dönüşümü yapmadı, anladığım kadarıyla önce değerleri 0-1 aralığına getirmemiz lazım. Aşağıdaki satırda feature'ları normalize ediyoruz.\n"
      ],
      "execution_count": 28,
      "outputs": [
        {
          "output_type": "stream",
          "text": [
            "/usr/local/lib/python3.7/dist-packages/pandas/core/series.py:726: RuntimeWarning: divide by zero encountered in log\n",
            "  result = getattr(ufunc, method)(*inputs, **kwargs)\n"
          ],
          "name": "stderr"
        },
        {
          "output_type": "error",
          "ename": "ValueError",
          "evalue": "ignored",
          "traceback": [
            "\u001b[0;31m---------------------------------------------------------------------------\u001b[0m",
            "\u001b[0;31mValueError\u001b[0m                                Traceback (most recent call last)",
            "\u001b[0;32m<ipython-input-28-670fee270cc8>\u001b[0m in \u001b[0;36m<module>\u001b[0;34m()\u001b[0m\n\u001b[1;32m     19\u001b[0m \u001b[0;32mfor\u001b[0m \u001b[0mi\u001b[0m \u001b[0;32min\u001b[0m \u001b[0mrange\u001b[0m\u001b[0;34m(\u001b[0m\u001b[0;36m3\u001b[0m\u001b[0;34m)\u001b[0m\u001b[0;34m:\u001b[0m\u001b[0;34m\u001b[0m\u001b[0;34m\u001b[0m\u001b[0m\n\u001b[1;32m     20\u001b[0m     \u001b[0mplt\u001b[0m\u001b[0;34m.\u001b[0m\u001b[0msubplot\u001b[0m\u001b[0;34m(\u001b[0m\u001b[0;36m3\u001b[0m\u001b[0;34m,\u001b[0m \u001b[0;36m3\u001b[0m\u001b[0;34m,\u001b[0m \u001b[0mi\u001b[0m\u001b[0;34m+\u001b[0m\u001b[0;36m7\u001b[0m\u001b[0;34m)\u001b[0m\u001b[0;34m\u001b[0m\u001b[0;34m\u001b[0m\u001b[0m\n\u001b[0;32m---> 21\u001b[0;31m     \u001b[0mplt\u001b[0m\u001b[0;34m.\u001b[0m\u001b[0mhist\u001b[0m\u001b[0;34m(\u001b[0m\u001b[0mnp\u001b[0m\u001b[0;34m.\u001b[0m\u001b[0mlog\u001b[0m\u001b[0;34m(\u001b[0m\u001b[0mdf\u001b[0m\u001b[0;34m[\u001b[0m\u001b[0mdegiskenler\u001b[0m\u001b[0;34m[\u001b[0m\u001b[0mi\u001b[0m\u001b[0;34m]\u001b[0m\u001b[0;34m]\u001b[0m\u001b[0;34m)\u001b[0m\u001b[0;34m)\u001b[0m\u001b[0;34m\u001b[0m\u001b[0;34m\u001b[0m\u001b[0m\n\u001b[0m\u001b[1;32m     22\u001b[0m     \u001b[0mplt\u001b[0m\u001b[0;34m.\u001b[0m\u001b[0mtitle\u001b[0m\u001b[0;34m(\u001b[0m\u001b[0mdegiskenler\u001b[0m\u001b[0;34m[\u001b[0m\u001b[0mi\u001b[0m\u001b[0;34m]\u001b[0m \u001b[0;34m+\u001b[0m \u001b[0;34m' (log dönüşümlü)'\u001b[0m\u001b[0;34m)\u001b[0m\u001b[0;34m\u001b[0m\u001b[0;34m\u001b[0m\u001b[0m\n\u001b[1;32m     23\u001b[0m \u001b[0;34m\u001b[0m\u001b[0m\n",
            "\u001b[0;32m/usr/local/lib/python3.7/dist-packages/matplotlib/pyplot.py\u001b[0m in \u001b[0;36mhist\u001b[0;34m(x, bins, range, density, weights, cumulative, bottom, histtype, align, orientation, rwidth, log, color, label, stacked, data, **kwargs)\u001b[0m\n\u001b[1;32m   2608\u001b[0m         \u001b[0malign\u001b[0m\u001b[0;34m=\u001b[0m\u001b[0malign\u001b[0m\u001b[0;34m,\u001b[0m \u001b[0morientation\u001b[0m\u001b[0;34m=\u001b[0m\u001b[0morientation\u001b[0m\u001b[0;34m,\u001b[0m \u001b[0mrwidth\u001b[0m\u001b[0;34m=\u001b[0m\u001b[0mrwidth\u001b[0m\u001b[0;34m,\u001b[0m \u001b[0mlog\u001b[0m\u001b[0;34m=\u001b[0m\u001b[0mlog\u001b[0m\u001b[0;34m,\u001b[0m\u001b[0;34m\u001b[0m\u001b[0;34m\u001b[0m\u001b[0m\n\u001b[1;32m   2609\u001b[0m         color=color, label=label, stacked=stacked, **({\"data\": data}\n\u001b[0;32m-> 2610\u001b[0;31m         if data is not None else {}), **kwargs)\n\u001b[0m\u001b[1;32m   2611\u001b[0m \u001b[0;34m\u001b[0m\u001b[0m\n\u001b[1;32m   2612\u001b[0m \u001b[0;34m\u001b[0m\u001b[0m\n",
            "\u001b[0;32m/usr/local/lib/python3.7/dist-packages/matplotlib/__init__.py\u001b[0m in \u001b[0;36minner\u001b[0;34m(ax, data, *args, **kwargs)\u001b[0m\n\u001b[1;32m   1563\u001b[0m     \u001b[0;32mdef\u001b[0m \u001b[0minner\u001b[0m\u001b[0;34m(\u001b[0m\u001b[0max\u001b[0m\u001b[0;34m,\u001b[0m \u001b[0;34m*\u001b[0m\u001b[0margs\u001b[0m\u001b[0;34m,\u001b[0m \u001b[0mdata\u001b[0m\u001b[0;34m=\u001b[0m\u001b[0;32mNone\u001b[0m\u001b[0;34m,\u001b[0m \u001b[0;34m**\u001b[0m\u001b[0mkwargs\u001b[0m\u001b[0;34m)\u001b[0m\u001b[0;34m:\u001b[0m\u001b[0;34m\u001b[0m\u001b[0;34m\u001b[0m\u001b[0m\n\u001b[1;32m   1564\u001b[0m         \u001b[0;32mif\u001b[0m \u001b[0mdata\u001b[0m \u001b[0;32mis\u001b[0m \u001b[0;32mNone\u001b[0m\u001b[0;34m:\u001b[0m\u001b[0;34m\u001b[0m\u001b[0;34m\u001b[0m\u001b[0m\n\u001b[0;32m-> 1565\u001b[0;31m             \u001b[0;32mreturn\u001b[0m \u001b[0mfunc\u001b[0m\u001b[0;34m(\u001b[0m\u001b[0max\u001b[0m\u001b[0;34m,\u001b[0m \u001b[0;34m*\u001b[0m\u001b[0mmap\u001b[0m\u001b[0;34m(\u001b[0m\u001b[0msanitize_sequence\u001b[0m\u001b[0;34m,\u001b[0m \u001b[0margs\u001b[0m\u001b[0;34m)\u001b[0m\u001b[0;34m,\u001b[0m \u001b[0;34m**\u001b[0m\u001b[0mkwargs\u001b[0m\u001b[0;34m)\u001b[0m\u001b[0;34m\u001b[0m\u001b[0;34m\u001b[0m\u001b[0m\n\u001b[0m\u001b[1;32m   1566\u001b[0m \u001b[0;34m\u001b[0m\u001b[0m\n\u001b[1;32m   1567\u001b[0m         \u001b[0mbound\u001b[0m \u001b[0;34m=\u001b[0m \u001b[0mnew_sig\u001b[0m\u001b[0;34m.\u001b[0m\u001b[0mbind\u001b[0m\u001b[0;34m(\u001b[0m\u001b[0max\u001b[0m\u001b[0;34m,\u001b[0m \u001b[0;34m*\u001b[0m\u001b[0margs\u001b[0m\u001b[0;34m,\u001b[0m \u001b[0;34m**\u001b[0m\u001b[0mkwargs\u001b[0m\u001b[0;34m)\u001b[0m\u001b[0;34m\u001b[0m\u001b[0;34m\u001b[0m\u001b[0m\n",
            "\u001b[0;32m/usr/local/lib/python3.7/dist-packages/matplotlib/axes/_axes.py\u001b[0m in \u001b[0;36mhist\u001b[0;34m(self, x, bins, range, density, weights, cumulative, bottom, histtype, align, orientation, rwidth, log, color, label, stacked, **kwargs)\u001b[0m\n\u001b[1;32m   6658\u001b[0m             \u001b[0;31m# this will automatically overwrite bins,\u001b[0m\u001b[0;34m\u001b[0m\u001b[0;34m\u001b[0m\u001b[0;34m\u001b[0m\u001b[0m\n\u001b[1;32m   6659\u001b[0m             \u001b[0;31m# so that each histogram uses the same bins\u001b[0m\u001b[0;34m\u001b[0m\u001b[0;34m\u001b[0m\u001b[0;34m\u001b[0m\u001b[0m\n\u001b[0;32m-> 6660\u001b[0;31m             \u001b[0mm\u001b[0m\u001b[0;34m,\u001b[0m \u001b[0mbins\u001b[0m \u001b[0;34m=\u001b[0m \u001b[0mnp\u001b[0m\u001b[0;34m.\u001b[0m\u001b[0mhistogram\u001b[0m\u001b[0;34m(\u001b[0m\u001b[0mx\u001b[0m\u001b[0;34m[\u001b[0m\u001b[0mi\u001b[0m\u001b[0;34m]\u001b[0m\u001b[0;34m,\u001b[0m \u001b[0mbins\u001b[0m\u001b[0;34m,\u001b[0m \u001b[0mweights\u001b[0m\u001b[0;34m=\u001b[0m\u001b[0mw\u001b[0m\u001b[0;34m[\u001b[0m\u001b[0mi\u001b[0m\u001b[0;34m]\u001b[0m\u001b[0;34m,\u001b[0m \u001b[0;34m**\u001b[0m\u001b[0mhist_kwargs\u001b[0m\u001b[0;34m)\u001b[0m\u001b[0;34m\u001b[0m\u001b[0;34m\u001b[0m\u001b[0m\n\u001b[0m\u001b[1;32m   6661\u001b[0m             \u001b[0mtops\u001b[0m\u001b[0;34m.\u001b[0m\u001b[0mappend\u001b[0m\u001b[0;34m(\u001b[0m\u001b[0mm\u001b[0m\u001b[0;34m)\u001b[0m\u001b[0;34m\u001b[0m\u001b[0;34m\u001b[0m\u001b[0m\n\u001b[1;32m   6662\u001b[0m         \u001b[0mtops\u001b[0m \u001b[0;34m=\u001b[0m \u001b[0mnp\u001b[0m\u001b[0;34m.\u001b[0m\u001b[0marray\u001b[0m\u001b[0;34m(\u001b[0m\u001b[0mtops\u001b[0m\u001b[0;34m,\u001b[0m \u001b[0mfloat\u001b[0m\u001b[0;34m)\u001b[0m  \u001b[0;31m# causes problems later if it's an int\u001b[0m\u001b[0;34m\u001b[0m\u001b[0;34m\u001b[0m\u001b[0m\n",
            "\u001b[0;32m<__array_function__ internals>\u001b[0m in \u001b[0;36mhistogram\u001b[0;34m(*args, **kwargs)\u001b[0m\n",
            "\u001b[0;32m/usr/local/lib/python3.7/dist-packages/numpy/lib/histograms.py\u001b[0m in \u001b[0;36mhistogram\u001b[0;34m(a, bins, range, normed, weights, density)\u001b[0m\n\u001b[1;32m    790\u001b[0m     \u001b[0ma\u001b[0m\u001b[0;34m,\u001b[0m \u001b[0mweights\u001b[0m \u001b[0;34m=\u001b[0m \u001b[0m_ravel_and_check_weights\u001b[0m\u001b[0;34m(\u001b[0m\u001b[0ma\u001b[0m\u001b[0;34m,\u001b[0m \u001b[0mweights\u001b[0m\u001b[0;34m)\u001b[0m\u001b[0;34m\u001b[0m\u001b[0;34m\u001b[0m\u001b[0m\n\u001b[1;32m    791\u001b[0m \u001b[0;34m\u001b[0m\u001b[0m\n\u001b[0;32m--> 792\u001b[0;31m     \u001b[0mbin_edges\u001b[0m\u001b[0;34m,\u001b[0m \u001b[0muniform_bins\u001b[0m \u001b[0;34m=\u001b[0m \u001b[0m_get_bin_edges\u001b[0m\u001b[0;34m(\u001b[0m\u001b[0ma\u001b[0m\u001b[0;34m,\u001b[0m \u001b[0mbins\u001b[0m\u001b[0;34m,\u001b[0m \u001b[0mrange\u001b[0m\u001b[0;34m,\u001b[0m \u001b[0mweights\u001b[0m\u001b[0;34m)\u001b[0m\u001b[0;34m\u001b[0m\u001b[0;34m\u001b[0m\u001b[0m\n\u001b[0m\u001b[1;32m    793\u001b[0m \u001b[0;34m\u001b[0m\u001b[0m\n\u001b[1;32m    794\u001b[0m     \u001b[0;31m# Histogram is an integer or a float array depending on the weights.\u001b[0m\u001b[0;34m\u001b[0m\u001b[0;34m\u001b[0m\u001b[0;34m\u001b[0m\u001b[0m\n",
            "\u001b[0;32m/usr/local/lib/python3.7/dist-packages/numpy/lib/histograms.py\u001b[0m in \u001b[0;36m_get_bin_edges\u001b[0;34m(a, bins, range, weights)\u001b[0m\n\u001b[1;32m    424\u001b[0m             \u001b[0;32mraise\u001b[0m \u001b[0mValueError\u001b[0m\u001b[0;34m(\u001b[0m\u001b[0;34m'`bins` must be positive, when an integer'\u001b[0m\u001b[0;34m)\u001b[0m\u001b[0;34m\u001b[0m\u001b[0;34m\u001b[0m\u001b[0m\n\u001b[1;32m    425\u001b[0m \u001b[0;34m\u001b[0m\u001b[0m\n\u001b[0;32m--> 426\u001b[0;31m         \u001b[0mfirst_edge\u001b[0m\u001b[0;34m,\u001b[0m \u001b[0mlast_edge\u001b[0m \u001b[0;34m=\u001b[0m \u001b[0m_get_outer_edges\u001b[0m\u001b[0;34m(\u001b[0m\u001b[0ma\u001b[0m\u001b[0;34m,\u001b[0m \u001b[0mrange\u001b[0m\u001b[0;34m)\u001b[0m\u001b[0;34m\u001b[0m\u001b[0;34m\u001b[0m\u001b[0m\n\u001b[0m\u001b[1;32m    427\u001b[0m \u001b[0;34m\u001b[0m\u001b[0m\n\u001b[1;32m    428\u001b[0m     \u001b[0;32melif\u001b[0m \u001b[0mnp\u001b[0m\u001b[0;34m.\u001b[0m\u001b[0mndim\u001b[0m\u001b[0;34m(\u001b[0m\u001b[0mbins\u001b[0m\u001b[0;34m)\u001b[0m \u001b[0;34m==\u001b[0m \u001b[0;36m1\u001b[0m\u001b[0;34m:\u001b[0m\u001b[0;34m\u001b[0m\u001b[0;34m\u001b[0m\u001b[0m\n",
            "\u001b[0;32m/usr/local/lib/python3.7/dist-packages/numpy/lib/histograms.py\u001b[0m in \u001b[0;36m_get_outer_edges\u001b[0;34m(a, range)\u001b[0m\n\u001b[1;32m    314\u001b[0m         \u001b[0;32mif\u001b[0m \u001b[0;32mnot\u001b[0m \u001b[0;34m(\u001b[0m\u001b[0mnp\u001b[0m\u001b[0;34m.\u001b[0m\u001b[0misfinite\u001b[0m\u001b[0;34m(\u001b[0m\u001b[0mfirst_edge\u001b[0m\u001b[0;34m)\u001b[0m \u001b[0;32mand\u001b[0m \u001b[0mnp\u001b[0m\u001b[0;34m.\u001b[0m\u001b[0misfinite\u001b[0m\u001b[0;34m(\u001b[0m\u001b[0mlast_edge\u001b[0m\u001b[0;34m)\u001b[0m\u001b[0;34m)\u001b[0m\u001b[0;34m:\u001b[0m\u001b[0;34m\u001b[0m\u001b[0;34m\u001b[0m\u001b[0m\n\u001b[1;32m    315\u001b[0m             raise ValueError(\n\u001b[0;32m--> 316\u001b[0;31m                 \"supplied range of [{}, {}] is not finite\".format(first_edge, last_edge))\n\u001b[0m\u001b[1;32m    317\u001b[0m     \u001b[0;32melif\u001b[0m \u001b[0ma\u001b[0m\u001b[0;34m.\u001b[0m\u001b[0msize\u001b[0m \u001b[0;34m==\u001b[0m \u001b[0;36m0\u001b[0m\u001b[0;34m:\u001b[0m\u001b[0;34m\u001b[0m\u001b[0;34m\u001b[0m\u001b[0m\n\u001b[1;32m    318\u001b[0m         \u001b[0;31m# handle empty arrays. Can't determine range, so use 0-1.\u001b[0m\u001b[0;34m\u001b[0m\u001b[0;34m\u001b[0m\u001b[0;34m\u001b[0m\u001b[0m\n",
            "\u001b[0;31mValueError\u001b[0m: supplied range of [-inf, 4.605170185988092] is not finite"
          ]
        },
        {
          "output_type": "display_data",
          "data": {
            "image/png": "[encoded data removed]",
            "text/plain": [
              "<Figure size 1008x432 with 7 Axes>"
            ]
          },
          "metadata": {
            "tags": [],
            "needs_background": "light"
          }
        }
      ]
    },
    {
      "cell_type": "code",
      "metadata": {
        "id": "-cWlcrZuOnIe",
        "outputId": "8c6fada7-a243-48e8-bb13-226c582cb6fe",
        "colab": {
          "base_uri": "https://localhost:8080/"
        }
      },
      "source": [
        "\n",
        "from sklearn.preprocessing import normalize\n",
        "\n",
        "df[\"norm_winsorize_math_score\"] = normalize(np.array(df[\"winsorize_math_score\"]).reshape(1,-1)).reshape(-1,1)\n",
        "df[\"norm_winsorize_reading_score\"] = normalize(np.array(df[\"winsorize_reading_score\"]).reshape(1,-1)).reshape(-1,1)\n",
        "df[\"norm_winsorize_writing_score\"] = normalize(np.array(df[\"winsorize_writing_score\"]).reshape(1,-1)).reshape(-1,1)\n",
        "normal_ozellikler=[\"winsorize_math_score\",\"norm_winsorize_math_score\",\"winsorize_reading_score\",\"norm_winsorize_reading_score\",\n",
        "                    \"winsorize_writing_score\",\"norm_winsorize_writing_score\"]\n",
        "\n",
        "print('Minimum Değer\\n-----------------',)\n",
        "print(df[normal_ozellikler].min())\n",
        "print('\\nMaksimum Değer\\n-----------------',)\n",
        "print(df[normal_ozellikler].max())\n",
        "\n"
      ],
      "execution_count": 31,
      "outputs": [
        {
          "output_type": "stream",
          "text": [
            "Minimum Değer\n",
            "-----------------\n",
            "winsorize_math_score           28.00000\n",
            "norm_winsorize_math_score       0.01305\n",
            "winsorize_reading_score        32.00000\n",
            "norm_winsorize_reading_score    0.01431\n",
            "winsorize_writing_score        32.00000\n",
            "norm_winsorize_writing_score    0.01451\n",
            "dtype: float64\n",
            "\n",
            "Maksimum Değer\n",
            "-----------------\n",
            "winsorize_math_score           100.00000\n",
            "norm_winsorize_math_score        0.04662\n",
            "winsorize_reading_score        100.00000\n",
            "norm_winsorize_reading_score     0.04472\n",
            "winsorize_writing_score        100.00000\n",
            "norm_winsorize_writing_score     0.04533\n",
            "dtype: float64\n"
          ],
          "name": "stdout"
        }
      ]
    },
    {
      "cell_type": "code",
      "metadata": {
        "id": "s6EFF4tWOoQ7",
        "outputId": "2f9af59b-e9fa-48c0-a46d-271a8b2d2b75",
        "colab": {
          "base_uri": "https://localhost:8080/",
          "height": 334
        }
      },
      "source": [
        "plt.figure(figsize=(18,5))\n",
        "\n",
        "for i in range(3):\n",
        "    plt.subplot(1,3,i+1)\n",
        "    plt.scatter(df[normal_ozellikler[2*i]], df[normal_ozellikler[2*i+1]])\n",
        "    #plt.title(\"Orjinal ve Normalize değerler \\n ({})\".format(df[2*i])) hata verdiği için koddan cıkardım.\n",
        "    plt.xlabel(\"Winsorize Değer\")\n",
        "    plt.ylabel(\"Normalleştirilmiş winsorize değer\")\n",
        "\n",
        "plt.show()"
      ],
      "execution_count": 38,
      "outputs": [
        {
          "output_type": "display_data",
          "data": {
            "image/png": "[encoded data removed]",
            "text/plain": [
              "<Figure size 1296x360 with 3 Axes>"
            ]
          },
          "metadata": {
            "tags": [],
            "needs_background": "light"
          }
        }
      ]
    },
    {
      "cell_type": "code",
      "metadata": {
        "id": "1wdlxJuTU4ch",
        "outputId": "791b2d24-2655-4c9b-8a6c-d6703a701421",
        "colab": {
          "base_uri": "https://localhost:8080/",
          "height": 343
        }
      },
      "source": [
        "df[\"new_score_feature\"] =(df[\"math score\"] + df[\"reading score\"] + df[\"writing score\"]) / 3\n",
        "df.head()"
      ],
      "execution_count": 41,
      "outputs": [
        {
          "output_type": "execute_result",
          "data": {
            "text/html": [
              "<div>\n",
              "<style scoped>\n",
              "    .dataframe tbody tr th:only-of-type {\n",
              "        vertical-align: middle;\n",
              "    }\n",
              "\n",
              "    .dataframe tbody tr th {\n",
              "        vertical-align: top;\n",
              "    }\n",
              "\n",
              "    .dataframe thead th {\n",
              "        text-align: right;\n",
              "    }\n",
              "</style>\n",
              "<table border=\"1\" class=\"dataframe\">\n",
              "  <thead>\n",
              "    <tr style=\"text-align: right;\">\n",
              "      <th></th>\n",
              "      <th>gender</th>\n",
              "      <th>race/ethnicity</th>\n",
              "      <th>parental level of education</th>\n",
              "      <th>lunch</th>\n",
              "      <th>test preparation course</th>\n",
              "      <th>math score</th>\n",
              "      <th>reading score</th>\n",
              "      <th>writing score</th>\n",
              "      <th>norm math score</th>\n",
              "      <th>norm reading score</th>\n",
              "      <th>norm writing score</th>\n",
              "      <th>winsorize_math_score</th>\n",
              "      <th>winsorize_reading_score</th>\n",
              "      <th>winsorize_writing_score</th>\n",
              "      <th>norm_winsorize_math_score</th>\n",
              "      <th>norm_winsorize_reading_score</th>\n",
              "      <th>norm_winsorize_writing_score</th>\n",
              "      <th>new_score_feature</th>\n",
              "    </tr>\n",
              "  </thead>\n",
              "  <tbody>\n",
              "    <tr>\n",
              "      <th>0</th>\n",
              "      <td>female</td>\n",
              "      <td>group B</td>\n",
              "      <td>bachelor's degree</td>\n",
              "      <td>standard</td>\n",
              "      <td>none</td>\n",
              "      <td>72</td>\n",
              "      <td>72</td>\n",
              "      <td>74</td>\n",
              "      <td>0.03358</td>\n",
              "      <td>0.03221</td>\n",
              "      <td>0.03356</td>\n",
              "      <td>72</td>\n",
              "      <td>72</td>\n",
              "      <td>74</td>\n",
              "      <td>0.03357</td>\n",
              "      <td>0.03220</td>\n",
              "      <td>0.03354</td>\n",
              "      <td>72.66667</td>\n",
              "    </tr>\n",
              "    <tr>\n",
              "      <th>1</th>\n",
              "      <td>female</td>\n",
              "      <td>group C</td>\n",
              "      <td>some college</td>\n",
              "      <td>standard</td>\n",
              "      <td>completed</td>\n",
              "      <td>69</td>\n",
              "      <td>90</td>\n",
              "      <td>88</td>\n",
              "      <td>0.03218</td>\n",
              "      <td>0.04026</td>\n",
              "      <td>0.03991</td>\n",
              "      <td>69</td>\n",
              "      <td>90</td>\n",
              "      <td>88</td>\n",
              "      <td>0.03217</td>\n",
              "      <td>0.04025</td>\n",
              "      <td>0.03989</td>\n",
              "      <td>82.33333</td>\n",
              "    </tr>\n",
              "    <tr>\n",
              "      <th>2</th>\n",
              "      <td>female</td>\n",
              "      <td>group B</td>\n",
              "      <td>master's degree</td>\n",
              "      <td>standard</td>\n",
              "      <td>none</td>\n",
              "      <td>90</td>\n",
              "      <td>95</td>\n",
              "      <td>93</td>\n",
              "      <td>0.04197</td>\n",
              "      <td>0.04250</td>\n",
              "      <td>0.04218</td>\n",
              "      <td>90</td>\n",
              "      <td>95</td>\n",
              "      <td>93</td>\n",
              "      <td>0.04196</td>\n",
              "      <td>0.04248</td>\n",
              "      <td>0.04216</td>\n",
              "      <td>92.66667</td>\n",
              "    </tr>\n",
              "    <tr>\n",
              "      <th>3</th>\n",
              "      <td>male</td>\n",
              "      <td>group A</td>\n",
              "      <td>associate's degree</td>\n",
              "      <td>free/reduced</td>\n",
              "      <td>none</td>\n",
              "      <td>47</td>\n",
              "      <td>57</td>\n",
              "      <td>44</td>\n",
              "      <td>0.02192</td>\n",
              "      <td>0.02550</td>\n",
              "      <td>0.01995</td>\n",
              "      <td>47</td>\n",
              "      <td>57</td>\n",
              "      <td>44</td>\n",
              "      <td>0.02191</td>\n",
              "      <td>0.02549</td>\n",
              "      <td>0.01995</td>\n",
              "      <td>49.33333</td>\n",
              "    </tr>\n",
              "    <tr>\n",
              "      <th>4</th>\n",
              "      <td>male</td>\n",
              "      <td>group C</td>\n",
              "      <td>some college</td>\n",
              "      <td>standard</td>\n",
              "      <td>none</td>\n",
              "      <td>76</td>\n",
              "      <td>78</td>\n",
              "      <td>75</td>\n",
              "      <td>0.03545</td>\n",
              "      <td>0.03489</td>\n",
              "      <td>0.03401</td>\n",
              "      <td>76</td>\n",
              "      <td>78</td>\n",
              "      <td>75</td>\n",
              "      <td>0.03543</td>\n",
              "      <td>0.03488</td>\n",
              "      <td>0.03400</td>\n",
              "      <td>76.33333</td>\n",
              "    </tr>\n",
              "  </tbody>\n",
              "</table>\n",
              "</div>"
            ],
            "text/plain": [
              "   gender race/ethnicity  ... norm_winsorize_writing_score new_score_feature\n",
              "0  female        group B  ...                      0.03354          72.66667\n",
              "1  female        group C  ...                      0.03989          82.33333\n",
              "2  female        group B  ...                      0.04216          92.66667\n",
              "3    male        group A  ...                      0.01995          49.33333\n",
              "4    male        group C  ...                      0.03400          76.33333\n",
              "\n",
              "[5 rows x 18 columns]"
            ]
          },
          "metadata": {
            "tags": []
          },
          "execution_count": 41
        }
      ]
    },
    {
      "cell_type": "code",
      "metadata": {
        "id": "Jp0i2mZNYgyr",
        "outputId": "8d5bff28-36c2-4fd3-af8e-1c4946c16d84",
        "colab": {
          "base_uri": "https://localhost:8080/",
          "height": 401
        }
      },
      "source": [
        "\n",
        "plt.boxplot(df.new_score_feature)\n",
        "\n",
        "#yeni feature için hala aykırı değer olduğunu görüyoruz.\n",
        "#aykırı değer olup olmadığını kontrol ediyorum. Daha önceki ödevlerde de vardı, ama tekrar bakmak istediğimde bulamadım.\n",
        "#yeni feature olustururken, aykırı değerleri temizleyip mi oluşturmak daha uygundu ve bunu yapsak bile yine aykırı değer temizliğine kesinlikle ihtiyacımız olacakm mı?\n"
      ],
      "execution_count": 43,
      "outputs": [
        {
          "output_type": "execute_result",
          "data": {
            "text/plain": [
              "{'boxes': [<matplotlib.lines.Line2D at 0x7f6e538ed610>],\n",
              " 'caps': [<matplotlib.lines.Line2D at 0x7f6e5394d310>,\n",
              "  <matplotlib.lines.Line2D at 0x7f6e538d8090>],\n",
              " 'fliers': [<matplotlib.lines.Line2D at 0x7f6e538d8850>],\n",
              " 'means': [],\n",
              " 'medians': [<matplotlib.lines.Line2D at 0x7f6e538d8250>],\n",
              " 'whiskers': [<matplotlib.lines.Line2D at 0x7f6e538ed450>,\n",
              "  <matplotlib.lines.Line2D at 0x7f6e5397d090>]}"
            ]
          },
          "metadata": {
            "tags": []
          },
          "execution_count": 43
        },
        {
          "output_type": "display_data",
          "data": {
            "image/png": "[encoded data removed]",
            "text/plain": [
              "<Figure size 432x288 with 1 Axes>"
            ]
          },
          "metadata": {
            "tags": [],
            "needs_background": "light"
          }
        }
      ]
    },
    {
      "cell_type": "code",
      "metadata": {
        "id": "w8wANv5JWyfN",
        "outputId": "83f2deba-912b-4d8f-f1ed-59ea3e34d73e",
        "colab": {
          "base_uri": "https://localhost:8080/",
          "height": 333
        }
      },
      "source": [
        "#yeni değişken ayrıca şu anda normal dağılımlı değil.\n",
        "\n",
        "\n",
        "plt.hist(df.new_score_feature)"
      ],
      "execution_count": 42,
      "outputs": [
        {
          "output_type": "execute_result",
          "data": {
            "text/plain": [
              "(array([  1.,   5.,  12.,  40., 124., 178., 262., 210., 122.,  46.]),\n",
              " array([  9. ,  18.1,  27.2,  36.3,  45.4,  54.5,  63.6,  72.7,  81.8,\n",
              "         90.9, 100. ]),\n",
              " <a list of 10 Patch objects>)"
            ]
          },
          "metadata": {
            "tags": []
          },
          "execution_count": 42
        },
        {
          "output_type": "display_data",
          "data": {
            "image/png": "[encoded data removed]",
            "text/plain": [
              "<Figure size 432x288 with 1 Axes>"
            ]
          },
          "metadata": {
            "tags": [],
            "needs_background": "light"
          }
        }
      ]
    },
    {
      "cell_type": "code",
      "metadata": {
        "id": "NuRD4PdWWv6u",
        "outputId": "79660e7a-5183-4040-a187-d4cb6e4daf0a",
        "colab": {
          "base_uri": "https://localhost:8080/",
          "height": 401
        }
      },
      "source": [
        "#yeni olusturduğumuz feature'a aşağı yönlü winsorize uyguluyoruz.\n",
        "\n",
        "from scipy.stats.mstats import winsorize\n",
        "\n",
        "winsorize_new_score_feature = winsorize(df.new_score_feature, (0.006,0))\n",
        "df[\"winsorize_new_score_feature\"] = winsorize_new_score_feature\n",
        "plt.boxplot(df[\"winsorize_new_score_feature\"])\n"
      ],
      "execution_count": 52,
      "outputs": [
        {
          "output_type": "execute_result",
          "data": {
            "text/plain": [
              "{'boxes': [<matplotlib.lines.Line2D at 0x7f6e539b42d0>],\n",
              " 'caps': [<matplotlib.lines.Line2D at 0x7f6e537c66d0>,\n",
              "  <matplotlib.lines.Line2D at 0x7f6e537c6e10>],\n",
              " 'fliers': [<matplotlib.lines.Line2D at 0x7f6e53936310>],\n",
              " 'means': [],\n",
              " 'medians': [<matplotlib.lines.Line2D at 0x7f6e53936c10>],\n",
              " 'whiskers': [<matplotlib.lines.Line2D at 0x7f6e539b4f10>,\n",
              "  <matplotlib.lines.Line2D at 0x7f6e539b41d0>]}"
            ]
          },
          "metadata": {
            "tags": []
          },
          "execution_count": 52
        },
        {
          "output_type": "display_data",
          "data": {
            "image/png": "[encoded data removed]",
            "text/plain": [
              "<Figure size 432x288 with 1 Axes>"
            ]
          },
          "metadata": {
            "tags": [],
            "needs_background": "light"
          }
        }
      ]
    },
    {
      "cell_type": "code",
      "metadata": {
        "id": "sezIVoutZWlN"
      },
      "source": [
        "#winsorize edilmiş new feature'u normalize edip dağılımı normal hale getirmeye calısıyoruz.\n",
        "\n",
        "from sklearn.preprocessing import normalize\n",
        "\n",
        "df[\"norm_winsorize_new_score_feature\"] = normalize(np.array(df[\"winsorize_new_score_feature\"]).reshape(1,-1)).reshape(-1,1)"
      ],
      "execution_count": 55,
      "outputs": []
    },
    {
      "cell_type": "code",
      "metadata": {
        "id": "khtLZIrLbJBO",
        "outputId": "447f2308-bb34-4f51-8399-efb0a48b2232",
        "colab": {
          "base_uri": "https://localhost:8080/",
          "height": 350
        }
      },
      "source": [
        "#normalize edilmiş yeni feature'ın grafiği.\n",
        "plt.hist(df[\"norm_winsorize_new_score_feature\"])"
      ],
      "execution_count": 56,
      "outputs": [
        {
          "output_type": "execute_result",
          "data": {
            "text/plain": [
              "(array([ 18.,  27.,  72., 120., 151., 209., 182., 119.,  72.,  30.]),\n",
              " array([0.01339121, 0.01661728, 0.01984334, 0.02306941, 0.02629547,\n",
              "        0.02952154, 0.0327476 , 0.03597367, 0.03919973, 0.0424258 ,\n",
              "        0.04565186]),\n",
              " <a list of 10 Patch objects>)"
            ]
          },
          "metadata": {
            "tags": []
          },
          "execution_count": 56
        },
        {
          "output_type": "display_data",
          "data": {
            "image/png": "[encoded data removed]",
            "text/plain": [
              "<Figure size 432x288 with 1 Axes>"
            ]
          },
          "metadata": {
            "tags": [],
            "needs_background": "light"
          }
        }
      ]
    },
    {
      "cell_type": "code",
      "metadata": {
        "id": "4TchsaFAbe--",
        "outputId": "38f05c0c-7c48-4189-ee77-eae233d9696c",
        "colab": {
          "base_uri": "https://localhost:8080/",
          "height": 465
        }
      },
      "source": [
        "import seaborn as sns\n",
        "\n",
        "#sadece karsılastırmak istediğim özelliklerden yeni bir dataframe olusturup, hangi özelliklerin birbiri ile\n",
        "#ilişkili olduğunu heatmap ile korelasyonları karsılastırmak istedim. Ancak aşağıdaki gibi bir grafik verdi, hatanın nerede olduğunu bulamadım.\n",
        "\n",
        "#bir sonraki satırda bütün dataframe'i kullanıp heatmap olusturmak zorunda kaldım, biraz daha karışık bir grafik oldu.\n",
        "\n",
        "\n",
        "\n",
        "df_corr = df[[\"norm_winsorize_math_score\",\"norm_winsorize_reading_score\", \"norm_winsorize_writing_score\", \"norm_winsorize_new_score_feature\"]]\n",
        "\n",
        "\n",
        "sns.heatmap(df_corr, square=True, annot=True, linewidths=.5, vmin=0, vmax=1, cmap='viridis')\n",
        "plt.title(\"Korelasyon Matrisi \")\n",
        "\n",
        "#"
      ],
      "execution_count": 68,
      "outputs": [
        {
          "output_type": "execute_result",
          "data": {
            "text/plain": [
              "Text(0.5, 1.0, 'Korelasyon Matrisi ')"
            ]
          },
          "metadata": {
            "tags": []
          },
          "execution_count": 68
        },
        {
          "output_type": "display_data",
          "data": {
            "image/png": "[encoded data removed]",
            "text/plain": [
              "<Figure size 432x288 with 2 Axes>"
            ]
          },
          "metadata": {
            "tags": [],
            "needs_background": "light"
          }
        }
      ]
    },
    {
      "cell_type": "code",
      "metadata": {
        "id": "e0HdBwEccipU",
        "outputId": "743dc96d-9f3f-4827-b9e6-346ab318b106",
        "colab": {
          "base_uri": "https://localhost:8080/",
          "height": 612
        }
      },
      "source": [
        "plt.figure(figsize=(16,7))\n",
        "sns.heatmap(df.corr(), square=True, annot=True, linewidths=.5, vmin=0, vmax=1, cmap='viridis')\n",
        "plt.title(\"Korelasyon Matrisi (Öğrenci Notları)\")\n",
        "plt.show()\n",
        "\n",
        "# Normalize edilmiş winsorize new_feature ile, normalize ve winsorize edilmiş 3 diğer özelliği karşılaştırıyoruz.\n",
        "#Hedef değişken olan Normalize edilmiş winsorize new_feature ile en ilişkili özelliğin reading olduğunu görüyoruz.\n",
        "#Bu yüzden veri ile ilerken math ve writing değişkenini veriden kaldırabiliriz."
      ],
      "execution_count": 71,
      "outputs": [
        {
          "output_type": "display_data",
          "data": {
            "image/png": "[encoded data removed]",
            "text/plain": [
              "<Figure size 1152x504 with 2 Axes>"
            ]
          },
          "metadata": {
            "tags": [],
            "needs_background": "light"
          }
        }
      ]
    },
    {
      "cell_type": "code",
      "metadata": {
        "id": "HJhRE_w9eMTl"
      },
      "source": [
        ""
      ],
      "execution_count": null,
      "outputs": []
    }
  ]
}