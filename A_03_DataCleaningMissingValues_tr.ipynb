{
  "nbformat": 4,
  "nbformat_minor": 0,
  "metadata": {
    "kernelspec": {
      "display_name": "Python 3",
      "language": "python",
      "name": "python3"
    },
    "language_info": {
      "codemirror_mode": {
        "name": "ipython",
        "version": 3
      },
      "file_extension": ".py",
      "mimetype": "text/x-python",
      "name": "python",
      "nbconvert_exporter": "python",
      "pygments_lexer": "ipython3",
      "version": "3.8.7"
    },
    "latex_envs": {
      "LaTeX_envs_menu_present": true,
      "autoclose": false,
      "autocomplete": true,
      "bibliofile": "biblio.bib",
      "cite_by": "apalike",
      "current_citInitial": 1,
      "eqLabelWithNumbers": true,
      "eqNumInitial": 1,
      "hotkeys": {
        "equation": "Ctrl-E",
        "itemize": "Ctrl-I"
      },
      "labels_anchors": false,
      "latex_user_defs": false,
      "report_style_numbering": false,
      "user_envs_cfg": false
    },
    "toc": {
      "base_numbering": 1,
      "nav_menu": {},
      "number_sections": false,
      "sideBar": true,
      "skip_h1_title": false,
      "title_cell": "Table of Contents",
      "title_sidebar": "Contents",
      "toc_cell": false,
      "toc_position": {},
      "toc_section_display": true,
      "toc_window_display": true
    },
    "varInspector": {
      "cols": {
        "lenName": 16,
        "lenType": 16,
        "lenVar": 40
      },
      "kernels_config": {
        "python": {
          "delete_cmd_postfix": "",
          "delete_cmd_prefix": "del ",
          "library": "var_list.py",
          "varRefreshCmd": "print(var_dic_list())"
        },
        "r": {
          "delete_cmd_postfix": ") ",
          "delete_cmd_prefix": "rm(",
          "library": "var_list.r",
          "varRefreshCmd": "cat(var_dic_list()) "
        }
      },
      "types_to_exclude": [
        "module",
        "function",
        "builtin_function_or_method",
        "instance",
        "_Feature"
      ],
      "window_display": false
    },
    "colab": {
      "name": "A_03_DataCleaningMissingValues_tr.ipynb",
      "provenance": [],
      "include_colab_link": true
    }
  },
  "cells": [
    {
      "cell_type": "markdown",
      "metadata": {
        "id": "view-in-github",
        "colab_type": "text"
      },
      "source": [
        "<a href=\"https://colab.research.google.com/github/odevhesabi1/Odevler/blob/main/A_03_DataCleaningMissingValues_tr.ipynb\" target=\"_parent\"><img src=\"https://colab.research.google.com/assets/colab-badge.svg\" alt=\"Open In Colab\"/></a>"
      ]
    },
    {
      "cell_type": "markdown",
      "metadata": {
        "id": "sKgDsfMelKOE"
      },
      "source": [
        "imBu ödevde [ABD Eğitim Sistemi](https://www.kaggle.com/noriuk/us-education-datasets-unification-project/home)'ne  ait bir takım verileri inceleyeceksiniz. Öncelikle [veri kümesini](https://www.kaggle.com/noriuk/us-education-datasets-unification-project/home) Kaggle'dan indirin. Burada eğitim sistemine ait bir çok veri kümesi bulunmaktadır. Bu ödevde [**'states_all.csv'**](https://drive.google.com/open?id=1jbMrKbjMhQeG8xHUc8IFlOU1z-Eh3abc)  isimli veri kümesini kullanacaksınız. \n",
        "\n",
        "Bu ödevi tamamlamak için, aşağıdaki soruların çözümlerini içeren Jupyter notebook dosyasının Github linkini gönderin. Kafanıza takılan konuları mentörünüzle konuşabilir ya da ofis saatinde Slack üzerinden sorabilirsiniz.\n",
        "\n",
        "1. Veri kümesinde yer alan değişkenlerinin tiplerini ve her bir değişkenin eksik (null) değer oranını bulun.\n",
        "\n",
        "2. Verimizde yıl (year) sütunu olduğunu farketmişsinizdir. Şimdilik yıl verisini unutun ve her bir gözlemin aynı yıl içerisinde yapıldığını farz edin. Her bir değişken için eksik değerleri nasıl doldurabileceğinizi düşünün. Eksik değerleri bir değerle doldurmak  hangi değişkenler için anlamlı, hangileri için anlamsızdır?\n",
        "\n",
        "3. Şimdi zaman faktörünü dikkate alma zamanı! 2. sorudaki cevabınızı tekrar gözden geçirin ve eksik verileri o yıl içerisinde gözlemlenen değerlere dayanarak doldurun. Örneğin, bir değeri ortalama değer ile doldurmak isterseniz, o yılın ortalamasını hesaplayın.\n",
        "\n",
        "4. Bu sefer, eksik değerleri enterpolasyon yaparak doldurun.\n",
        "\n",
        "5. İkinci, üçüncü ve dördüncü sorulardaki cevaplarınızı karşılaştırın. Anlamlı bir fark görebiliyor musunuz?"
      ]
    },
    {
      "cell_type": "code",
      "metadata": {
        "id": "eIRR0hiS28rz"
      },
      "source": [
        ""
      ],
      "execution_count": null,
      "outputs": []
    },
    {
      "cell_type": "code",
      "metadata": {
        "id": "zMh1-20om5Dy"
      },
      "source": [
        "import numpy as np\n",
        "import pandas as pd\n",
        "import matplotlib.pyplot as plt\n",
        "\n",
        "\n",
        "df = pd.read_csv(\"states_all.csv\")"
      ],
      "execution_count": 1,
      "outputs": []
    },
    {
      "cell_type": "code",
      "metadata": {
        "id": "b7GJ2Vo0qT4e"
      },
      "source": [
        "#CEVAP-2: Sayısal verilerin uygun şekilde değerlerlendirilip, eksik verilerin doldurulabileceğin düşünüyorum. Yılları çıkarıp düşündüğümüzde, elimizde aynı eyalet için yıl sayısı kadar gözlem\n",
        "#kalmış olacaktır. Cevaplar buna göre verilmiştir.\n",
        "\n",
        "#Kategorik değişkenler için boşlukları doldurmazdım. Bu satırları muhtemelen veriden çıkarırdım.\n",
        "\n",
        "#ENROLL KOLONU İÇİN: Gözüme çarplan outliner değerler olup olmadıgına bakıp, varyansı kontrol ederim. Varyans küçükse hem outliner olmadığını düşünürüm, hemde enroll sayılarının çok değiş-\n",
        "#mediğine kadar veriririm. Bu kolonda boş değerlerin MEAN ile doldurulabileceğini düşünyorum. \n",
        "#Buradan varyans kullanırım dedim ama varyans iki farklı değişkenin birbirine göre ilişkisini mi veriyordu yoksa aynı değişkenin farklı gözlemleri içinde geçerli mi bilmiyorum. Eğer yan-\n",
        "#lışsam Standart Sapma kullanırdım. İkisinin farkından ve birbirlerinin yerine geçip geçmeyeceğinden emin değilim. Sanırım varyans küçükse veriler belirli bir noktada toplanmaya eğilimli\n",
        "#ve outliner değerlerimiz az demektir. Bu noktadan sonra boş bir değer için ben direkt olarak duruma göre mean, median ya da mod'u kullanırdım. Eğer standart sapmayı kullanıp boşlukları\n",
        "#doldurmak istersemde, kolonun ortalamasını standrt sapma ile çarpıp, boşluk değerlerin çıkan sonuç kadar ortalamadan yukarı ya da aşağı oldugunu düşünüp o aralıkta rastgele bir değer\n",
        "#verirdim.\n",
        "\n",
        "#Bunu AVG_MATH_score kolonu hariç diğer kolonlar için uygulardım. Math_score kolonları için outliner değerlerim olabilir. Varyansi ve STD'yi kontrol ederim.Burada ortalamayı almak yerine\n",
        "#MEDIAN'ı alırdım. Çünkü ders notların outliner değerler olabilir ve bunlar bu tür durumlarda hariç tutulmak yerine dikkate alınmalıdır.\n",
        "#"
      ],
      "execution_count": 2,
      "outputs": []
    },
    {
      "cell_type": "code",
      "metadata": {
        "id": "U2hVXfQ8nFiz",
        "outputId": "c2bacfca-b636-4ffc-bd9e-02e029d5f966",
        "colab": {
          "base_uri": "https://localhost:8080/"
        }
      },
      "source": [
        "df.info()"
      ],
      "execution_count": 3,
      "outputs": [
        {
          "output_type": "stream",
          "text": [
            "<class 'pandas.core.frame.DataFrame'>\n",
            "RangeIndex: 1715 entries, 0 to 1714\n",
            "Data columns (total 25 columns):\n",
            " #   Column                        Non-Null Count  Dtype  \n",
            "---  ------                        --------------  -----  \n",
            " 0   PRIMARY_KEY                   1715 non-null   object \n",
            " 1   STATE                         1715 non-null   object \n",
            " 2   YEAR                          1715 non-null   int64  \n",
            " 3   ENROLL                        1224 non-null   float64\n",
            " 4   TOTAL_REVENUE                 1275 non-null   float64\n",
            " 5   FEDERAL_REVENUE               1275 non-null   float64\n",
            " 6   STATE_REVENUE                 1275 non-null   float64\n",
            " 7   LOCAL_REVENUE                 1275 non-null   float64\n",
            " 8   TOTAL_EXPENDITURE             1275 non-null   float64\n",
            " 9   INSTRUCTION_EXPENDITURE       1275 non-null   float64\n",
            " 10  SUPPORT_SERVICES_EXPENDITURE  1275 non-null   float64\n",
            " 11  OTHER_EXPENDITURE             1224 non-null   float64\n",
            " 12  CAPITAL_OUTLAY_EXPENDITURE    1275 non-null   float64\n",
            " 13  GRADES_PK_G                   1542 non-null   float64\n",
            " 14  GRADES_KG_G                   1632 non-null   float64\n",
            " 15  GRADES_4_G                    1632 non-null   float64\n",
            " 16  GRADES_8_G                    1632 non-null   float64\n",
            " 17  GRADES_12_G                   1632 non-null   float64\n",
            " 18  GRADES_1_8_G                  1020 non-null   float64\n",
            " 19  GRADES_9_12_G                 1071 non-null   float64\n",
            " 20  GRADES_ALL_G                  1632 non-null   float64\n",
            " 21  AVG_MATH_4_SCORE              565 non-null    float64\n",
            " 22  AVG_MATH_8_SCORE              602 non-null    float64\n",
            " 23  AVG_READING_4_SCORE           650 non-null    float64\n",
            " 24  AVG_READING_8_SCORE           562 non-null    float64\n",
            "dtypes: float64(22), int64(1), object(2)\n",
            "memory usage: 335.1+ KB\n"
          ],
          "name": "stdout"
        }
      ]
    },
    {
      "cell_type": "code",
      "metadata": {
        "id": "cuNLcDQYnksk",
        "outputId": "8c8bf3c6-8d47-43b6-bd51-aa82e52f7121",
        "colab": {
          "base_uri": "https://localhost:8080/",
          "height": 224
        }
      },
      "source": [
        "df[1000:1005]"
      ],
      "execution_count": 4,
      "outputs": [
        {
          "output_type": "execute_result",
          "data": {
            "text/html": [
              "<div>\n",
              "<style scoped>\n",
              "    .dataframe tbody tr th:only-of-type {\n",
              "        vertical-align: middle;\n",
              "    }\n",
              "\n",
              "    .dataframe tbody tr th {\n",
              "        vertical-align: top;\n",
              "    }\n",
              "\n",
              "    .dataframe thead th {\n",
              "        text-align: right;\n",
              "    }\n",
              "</style>\n",
              "<table border=\"1\" class=\"dataframe\">\n",
              "  <thead>\n",
              "    <tr style=\"text-align: right;\">\n",
              "      <th></th>\n",
              "      <th>PRIMARY_KEY</th>\n",
              "      <th>STATE</th>\n",
              "      <th>YEAR</th>\n",
              "      <th>ENROLL</th>\n",
              "      <th>TOTAL_REVENUE</th>\n",
              "      <th>FEDERAL_REVENUE</th>\n",
              "      <th>STATE_REVENUE</th>\n",
              "      <th>LOCAL_REVENUE</th>\n",
              "      <th>TOTAL_EXPENDITURE</th>\n",
              "      <th>INSTRUCTION_EXPENDITURE</th>\n",
              "      <th>SUPPORT_SERVICES_EXPENDITURE</th>\n",
              "      <th>OTHER_EXPENDITURE</th>\n",
              "      <th>CAPITAL_OUTLAY_EXPENDITURE</th>\n",
              "      <th>GRADES_PK_G</th>\n",
              "      <th>GRADES_KG_G</th>\n",
              "      <th>GRADES_4_G</th>\n",
              "      <th>GRADES_8_G</th>\n",
              "      <th>GRADES_12_G</th>\n",
              "      <th>GRADES_1_8_G</th>\n",
              "      <th>GRADES_9_12_G</th>\n",
              "      <th>GRADES_ALL_G</th>\n",
              "      <th>AVG_MATH_4_SCORE</th>\n",
              "      <th>AVG_MATH_8_SCORE</th>\n",
              "      <th>AVG_READING_4_SCORE</th>\n",
              "      <th>AVG_READING_8_SCORE</th>\n",
              "    </tr>\n",
              "  </thead>\n",
              "  <tbody>\n",
              "    <tr>\n",
              "      <th>1000</th>\n",
              "      <td>2011_NEW_MEXICO</td>\n",
              "      <td>NEW_MEXICO</td>\n",
              "      <td>2011</td>\n",
              "      <td>331373.0</td>\n",
              "      <td>3591330.0</td>\n",
              "      <td>636436.0</td>\n",
              "      <td>2355210.0</td>\n",
              "      <td>599684.0</td>\n",
              "      <td>3694437.0</td>\n",
              "      <td>1744548.0</td>\n",
              "      <td>1124390.0</td>\n",
              "      <td>140296.0</td>\n",
              "      <td>616478.0</td>\n",
              "      <td>7652.0</td>\n",
              "      <td>26954.0</td>\n",
              "      <td>25703.0</td>\n",
              "      <td>24436.0</td>\n",
              "      <td>20671.0</td>\n",
              "      <td>204875.0</td>\n",
              "      <td>97744.0</td>\n",
              "      <td>337225.0</td>\n",
              "      <td>233.0</td>\n",
              "      <td>274.0</td>\n",
              "      <td>208.0</td>\n",
              "      <td>256.0</td>\n",
              "    </tr>\n",
              "    <tr>\n",
              "      <th>1001</th>\n",
              "      <td>2011_NEW_YORK</td>\n",
              "      <td>NEW_YORK</td>\n",
              "      <td>2011</td>\n",
              "      <td>2677412.0</td>\n",
              "      <td>57753776.0</td>\n",
              "      <td>5118477.0</td>\n",
              "      <td>23188002.0</td>\n",
              "      <td>29447297.0</td>\n",
              "      <td>59446908.0</td>\n",
              "      <td>37834196.0</td>\n",
              "      <td>14460678.0</td>\n",
              "      <td>1416793.0</td>\n",
              "      <td>4653802.0</td>\n",
              "      <td>49569.0</td>\n",
              "      <td>197458.0</td>\n",
              "      <td>196082.0</td>\n",
              "      <td>201190.0</td>\n",
              "      <td>190732.0</td>\n",
              "      <td>1595807.0</td>\n",
              "      <td>831712.0</td>\n",
              "      <td>2704718.0</td>\n",
              "      <td>238.0</td>\n",
              "      <td>280.0</td>\n",
              "      <td>222.0</td>\n",
              "      <td>266.0</td>\n",
              "    </tr>\n",
              "    <tr>\n",
              "      <th>1002</th>\n",
              "      <td>2011_NORTH_CAROLINA</td>\n",
              "      <td>NORTH_CAROLINA</td>\n",
              "      <td>2011</td>\n",
              "      <td>1448117.0</td>\n",
              "      <td>14409515.0</td>\n",
              "      <td>2046954.0</td>\n",
              "      <td>7488570.0</td>\n",
              "      <td>4873991.0</td>\n",
              "      <td>13767024.0</td>\n",
              "      <td>7566249.0</td>\n",
              "      <td>3843709.0</td>\n",
              "      <td>696313.0</td>\n",
              "      <td>980517.0</td>\n",
              "      <td>33603.0</td>\n",
              "      <td>117944.0</td>\n",
              "      <td>116325.0</td>\n",
              "      <td>113238.0</td>\n",
              "      <td>94017.0</td>\n",
              "      <td>922516.0</td>\n",
              "      <td>433801.0</td>\n",
              "      <td>1507864.0</td>\n",
              "      <td>245.0</td>\n",
              "      <td>286.0</td>\n",
              "      <td>221.0</td>\n",
              "      <td>263.0</td>\n",
              "    </tr>\n",
              "    <tr>\n",
              "      <th>1003</th>\n",
              "      <td>2011_NORTH_DAKOTA</td>\n",
              "      <td>NORTH_DAKOTA</td>\n",
              "      <td>2011</td>\n",
              "      <td>96255.0</td>\n",
              "      <td>1309044.0</td>\n",
              "      <td>186844.0</td>\n",
              "      <td>630430.0</td>\n",
              "      <td>491770.0</td>\n",
              "      <td>1312226.0</td>\n",
              "      <td>660944.0</td>\n",
              "      <td>360118.0</td>\n",
              "      <td>86352.0</td>\n",
              "      <td>124967.0</td>\n",
              "      <td>1706.0</td>\n",
              "      <td>8236.0</td>\n",
              "      <td>7028.0</td>\n",
              "      <td>7436.0</td>\n",
              "      <td>7348.0</td>\n",
              "      <td>57946.0</td>\n",
              "      <td>29758.0</td>\n",
              "      <td>97646.0</td>\n",
              "      <td>245.0</td>\n",
              "      <td>292.0</td>\n",
              "      <td>226.0</td>\n",
              "      <td>269.0</td>\n",
              "    </tr>\n",
              "    <tr>\n",
              "      <th>1004</th>\n",
              "      <td>2011_OHIO</td>\n",
              "      <td>OHIO</td>\n",
              "      <td>2011</td>\n",
              "      <td>1655534.0</td>\n",
              "      <td>23488657.0</td>\n",
              "      <td>2533882.0</td>\n",
              "      <td>9834235.0</td>\n",
              "      <td>11120540.0</td>\n",
              "      <td>23010396.0</td>\n",
              "      <td>11074360.0</td>\n",
              "      <td>7570565.0</td>\n",
              "      <td>935953.0</td>\n",
              "      <td>2494681.0</td>\n",
              "      <td>29015.0</td>\n",
              "      <td>131323.0</td>\n",
              "      <td>130406.0</td>\n",
              "      <td>134219.0</td>\n",
              "      <td>117866.0</td>\n",
              "      <td>1056888.0</td>\n",
              "      <td>522804.0</td>\n",
              "      <td>1740030.0</td>\n",
              "      <td>244.0</td>\n",
              "      <td>289.0</td>\n",
              "      <td>224.0</td>\n",
              "      <td>268.0</td>\n",
              "    </tr>\n",
              "  </tbody>\n",
              "</table>\n",
              "</div>"
            ],
            "text/plain": [
              "              PRIMARY_KEY  ... AVG_READING_8_SCORE\n",
              "1000      2011_NEW_MEXICO  ...               256.0\n",
              "1001        2011_NEW_YORK  ...               266.0\n",
              "1002  2011_NORTH_CAROLINA  ...               263.0\n",
              "1003    2011_NORTH_DAKOTA  ...               269.0\n",
              "1004            2011_OHIO  ...               268.0\n",
              "\n",
              "[5 rows x 25 columns]"
            ]
          },
          "metadata": {
            "tags": []
          },
          "execution_count": 4
        }
      ]
    },
    {
      "cell_type": "code",
      "metadata": {
        "id": "efNvrsRtnRCR",
        "outputId": "1f605c71-53bb-4ce0-c86c-2de8f23817cd",
        "colab": {
          "base_uri": "https://localhost:8080/"
        }
      },
      "source": [
        "#Her bir değişkendeki eksik verilerin oranı\n",
        "\n",
        "df.isnull().sum() * 100 / df.shape[0]"
      ],
      "execution_count": 5,
      "outputs": [
        {
          "output_type": "execute_result",
          "data": {
            "text/plain": [
              "PRIMARY_KEY                      0.000000\n",
              "STATE                            0.000000\n",
              "YEAR                             0.000000\n",
              "ENROLL                          28.629738\n",
              "TOTAL_REVENUE                   25.655977\n",
              "FEDERAL_REVENUE                 25.655977\n",
              "STATE_REVENUE                   25.655977\n",
              "LOCAL_REVENUE                   25.655977\n",
              "TOTAL_EXPENDITURE               25.655977\n",
              "INSTRUCTION_EXPENDITURE         25.655977\n",
              "SUPPORT_SERVICES_EXPENDITURE    25.655977\n",
              "OTHER_EXPENDITURE               28.629738\n",
              "CAPITAL_OUTLAY_EXPENDITURE      25.655977\n",
              "GRADES_PK_G                     10.087464\n",
              "GRADES_KG_G                      4.839650\n",
              "GRADES_4_G                       4.839650\n",
              "GRADES_8_G                       4.839650\n",
              "GRADES_12_G                      4.839650\n",
              "GRADES_1_8_G                    40.524781\n",
              "GRADES_9_12_G                   37.551020\n",
              "GRADES_ALL_G                     4.839650\n",
              "AVG_MATH_4_SCORE                67.055394\n",
              "AVG_MATH_8_SCORE                64.897959\n",
              "AVG_READING_4_SCORE             62.099125\n",
              "AVG_READING_8_SCORE             67.230321\n",
              "dtype: float64"
            ]
          },
          "metadata": {
            "tags": []
          },
          "execution_count": 5
        }
      ]
    },
    {
      "cell_type": "code",
      "metadata": {
        "id": "pHk8q9k2ogrk"
      },
      "source": [
        "#CEVAP-2: Sayısal verilerin uygun şekilde değerlerlendirilip, eksik verilerin doldurulabileceğin düşünüyorum. Yılları çıkarıp düşündüğümüzde, elimizde aynı eyalet için yıl sayısı kadar gözlem\n",
        "#kalmış olacaktır. Cevaplar buna göre verilmiştir.\n",
        "\n",
        "#Kategorik değişkenler için boşlukları doldurmazdım. Bu satırları muhtemelen veriden çıkarırdım.\n",
        "\n",
        "#ENROLL KOLONU İÇİN: Gözüme çarplan outliner değerler olup olmadıgına bakıp, varyansı kontrol ederim. Varyans küçükse hem outliner olmadığını düşünürüm, hemde enroll sayılarının çok değiş-\n",
        "#mediğine kadar veriririm. Bu kolonda boş değerlerin MEAN ile doldurulabileceğini düşünyorum. \n",
        "#Buradan varyans kullanırım dedim ama varyans iki farklı değişkenin birbirine göre ilişkisini mi veriyordu yoksa aynı değişkenin farklı gözlemleri içinde geçerli mi bilmiyorum. Eğer yan-\n",
        "#lışsam Standart Sapma kullanırdım. İkisinin farkından ve birbirlerinin yerine geçip geçmeyeceğinden emin değilim. Sanırım varyans küçükse veriler belirli bir noktada toplanmaya eğilimli\n",
        "#ve outliner değerlerimiz az demektir. Bu noktadan sonra boş bir değer için ben direkt olarak duruma göre mean, median ya da mod'u kullanırdım. Eğer standart sapmayı kullanıp boşlukları\n",
        "#doldurmak istersemde, kolonun ortalamasını standrt sapma ile çarpıp, boşluk değerlerin çıkan sonuç kadar ortalamadan yukarı ya da aşağı oldugunu düşünüp o aralıkta rastgele bir değer\n",
        "#verirdim.\n",
        "\n",
        "#Bunu AVG_MATH_score kolonu hariç diğer kolonlar için uygulardım. Math_score kolonları için outliner değerlerim olabilir. Varyansi ve STD'yi kontrol ederim.Burada ortalamayı almak yerine\n",
        "#MEDIAN'ı alırdım. Çünkü ders notların outliner değerler olabilir ve bunlar bu tür durumlarda hariç tutulmak yerine dikkate alınmalıdır.\n",
        "#"
      ],
      "execution_count": 6,
      "outputs": []
    },
    {
      "cell_type": "code",
      "metadata": {
        "id": "87PeBglv3N9x",
        "outputId": "c49a6477-a02a-4078-e92a-f1323fdfcdf0",
        "colab": {
          "base_uri": "https://localhost:8080/",
          "height": 129
        }
      },
      "source": [
        "list1 = df.PRIMARY_KEY.unique()\n",
        "\n",
        "for element in list1:\n",
        "  if df[df[\"PRIMARY_KEY\"]== element ].ENROLL.isnull() == True:\n",
        "    mean=df[df[\"PRIMARY_KEY\"]== element ].ENROLL\n",
        "    df[df[\"PRIMARY_KEY\"]== element ].ENROLL.fillna()\n",
        "\n",
        "\n",
        "### Bu soru ve sonrakileri yapamadım Emre Hocam, bunlara beraber bakabilir miyiz."
      ],
      "execution_count": 7,
      "outputs": [
        {
          "output_type": "error",
          "ename": "SyntaxError",
          "evalue": "ignored",
          "traceback": [
            "\u001b[0;36m  File \u001b[0;32m\"<ipython-input-7-a03dd163ac9b>\"\u001b[0;36m, line \u001b[0;32m4\u001b[0m\n\u001b[0;31m    if df.element.isnull()\u001b[0m\n\u001b[0m                          ^\u001b[0m\n\u001b[0;31mSyntaxError\u001b[0m\u001b[0;31m:\u001b[0m invalid syntax\n"
          ]
        }
      ]
    },
    {
      "cell_type": "code",
      "metadata": {
        "id": "CtlJgIgT5ONB"
      },
      "source": [
        ""
      ],
      "execution_count": null,
      "outputs": []
    }
  ]
}