{
  "nbformat": 4,
  "nbformat_minor": 0,
  "metadata": {
    "kernelspec": {
      "display_name": "Python 3.8 (DJL)",
      "language": "python",
      "name": "djl"
    },
    "language_info": {
      "codemirror_mode": {
        "name": "ipython",
        "version": 3
      },
      "file_extension": ".py",
      "mimetype": "text/x-python",
      "name": "python",
      "nbconvert_exporter": "python",
      "pygments_lexer": "ipython3",
      "version": "3.8.5"
    },
    "latex_envs": {
      "LaTeX_envs_menu_present": true,
      "autoclose": false,
      "autocomplete": true,
      "bibliofile": "biblio.bib",
      "cite_by": "apalike",
      "current_citInitial": 1,
      "eqLabelWithNumbers": true,
      "eqNumInitial": 1,
      "hotkeys": {
        "equation": "Ctrl-E",
        "itemize": "Ctrl-I"
      },
      "labels_anchors": false,
      "latex_user_defs": false,
      "report_style_numbering": false,
      "user_envs_cfg": false
    },
    "toc": {
      "base_numbering": 1,
      "nav_menu": {},
      "number_sections": false,
      "sideBar": true,
      "skip_h1_title": false,
      "title_cell": "İçerik",
      "title_sidebar": "Contents",
      "toc_cell": false,
      "toc_position": {},
      "toc_section_display": true,
      "toc_window_display": true
    },
    "varInspector": {
      "cols": {
        "lenName": 16,
        "lenType": 16,
        "lenVar": 40
      },
      "kernels_config": {
        "python": {
          "delete_cmd_postfix": "",
          "delete_cmd_prefix": "del ",
          "library": "var_list.py",
          "varRefreshCmd": "print(var_dic_list())"
        },
        "r": {
          "delete_cmd_postfix": ") ",
          "delete_cmd_prefix": "rm(",
          "library": "var_list.r",
          "varRefreshCmd": "cat(var_dic_list()) "
        }
      },
      "types_to_exclude": [
        "module",
        "function",
        "builtin_function_or_method",
        "instance",
        "_Feature"
      ],
      "window_display": false
    },
    "colab": {
      "name": "A_04_DataCleaningOutliers_tr.ipynb",
      "provenance": [],
      "include_colab_link": true
    }
  },
  "cells": [
    {
      "cell_type": "markdown",
      "metadata": {
        "id": "view-in-github",
        "colab_type": "text"
      },
      "source": [
        "<a href=\"https://colab.research.google.com/github/odevhesabi1/Odevler/blob/main/A_04_DataCleaningOutliers_tr.ipynb\" target=\"_parent\"><img src=\"https://colab.research.google.com/assets/colab-badge.svg\" alt=\"Open In Colab\"/></a>"
      ]
    },
    {
      "cell_type": "markdown",
      "metadata": {
        "id": "EYVrdtjAU7A2"
      },
      "source": [
        "Bu ödevde [ABD Eğitim Sistemi](https://www.kaggle.com/noriuk/us-education-datasets-unification-project/home)'ne ait verileri inceleyemeye devam edeceksiniz. Bu veri kümesinde eyalet bazında yıllık bir çok veri bulunmaktadır. Bu verilerin açıklamalarına yine Kaggle'dan ulaşabilirsiniz. \n",
        "\n",
        "Bu ödevi tamamlamak için, aşağıdaki soruların çözümlerini içeren Jupyter notebook dosyasının Github linkini gönderin. Kafanıza takılan konuları mentörünüzle konuşabilir ya da ofis saatinde Slack üzerinden sorabilirsiniz.\n",
        "\n",
        "Öncelikle bir önceki derste uyguladağınız eksik değerleri tamamlama tekniklerinden en uygun olanını uygulayın. Aşağıdaki sorulara cevap verebilmeniz için eksik verilerin üstesinden gelmelisiniz.\n",
        "\n",
        "1. Toplam gelir verilerini içeren *TOTAL_REVENUE* ve toplam harcama verilerini içeren *TOTAL_EXPENDITURE* değişkenlerini inceleyin. Bu değişkenler aykırı değerler içeriyor mu?\n",
        "\n",
        "2. Toplam gelir (*TOTAL_REVENUE*) ve toplam harcama (*TOTAL_EXPENDITURE*) değişkenlerinde aykırı değer tespit ettiyseniz bu derste öğrendiğiniz teknikleri uygulayarak bu aykırı değerleri ortadan kaldırın ve bunu yaptıktan sonra hiçbir aykırı değer kalmadığını doğrulayın.\n",
        "\n",
        "3. Toplam gelir (*TOTAL_REVENUE*) değişkeninden, toplam harcama (*TOTAL_EXPENDITURE*) değerini çıkartarak bütçe açığı olarak düşünülebilecek bir değişken oluşturun (aykırı değerleri temezlemeden). Bu yeni değişkende de aykırı değerler yer almakta mı? Varsa bu aykırı değerleri de temizleyin.\n",
        "\n",
        "4. Yine toplam gelir (*TOTAL_REVENUE*) değişkeninden, toplam harcama(*TOTAL_EXPENDITURE*) değerini çıkartarak bütçe açığı olarak düşünülebilecek bir değişken oluşturun. Fakat bu sefer aykırı değerleri temezledikten sonra bu işlemi yapın. Bu yeni değişkende  de aykırı değerler var mı? Varsa bunları da temizlemekte fayda var.\n",
        "\n",
        "5. Şimdi elimizde üçüncü ve ve dördüncü sorularda oluşturduğumuz iki farklı bütçe değişkeni var. Bu ikisi arasında fark görüyor musunuz? \n",
        "\n",
        "6. Bizim için bütçe açığı çok önemli bir değişken olsaydı aykırı değerleri temizlemek için hangi yöntem daha iyi olurdu. Üçüncü soruda uguladığınız yöntem mi yoksa dördüncü sorudaki yöntem mi? "
      ]
    },
    {
      "cell_type": "code",
      "metadata": {
        "id": "TKQjSCiybLJP",
        "outputId": "f3fd539e-8e00-402e-8283-d91453e52567",
        "colab": {
          "base_uri": "https://localhost:8080/",
          "height": 162
        }
      },
      "source": [
        "import pandas as pd\n",
        "import numpy as np\n",
        "import matplotlib.pyplot as plt\n",
        "\n",
        "\n",
        "df = pd.read_csv(\"states_all.csv\")\n",
        "df[:3]"
      ],
      "execution_count": 1,
      "outputs": [
        {
          "output_type": "execute_result",
          "data": {
            "text/html": [
              "<div>\n",
              "<style scoped>\n",
              "    .dataframe tbody tr th:only-of-type {\n",
              "        vertical-align: middle;\n",
              "    }\n",
              "\n",
              "    .dataframe tbody tr th {\n",
              "        vertical-align: top;\n",
              "    }\n",
              "\n",
              "    .dataframe thead th {\n",
              "        text-align: right;\n",
              "    }\n",
              "</style>\n",
              "<table border=\"1\" class=\"dataframe\">\n",
              "  <thead>\n",
              "    <tr style=\"text-align: right;\">\n",
              "      <th></th>\n",
              "      <th>PRIMARY_KEY</th>\n",
              "      <th>STATE</th>\n",
              "      <th>YEAR</th>\n",
              "      <th>ENROLL</th>\n",
              "      <th>TOTAL_REVENUE</th>\n",
              "      <th>FEDERAL_REVENUE</th>\n",
              "      <th>STATE_REVENUE</th>\n",
              "      <th>LOCAL_REVENUE</th>\n",
              "      <th>TOTAL_EXPENDITURE</th>\n",
              "      <th>INSTRUCTION_EXPENDITURE</th>\n",
              "      <th>SUPPORT_SERVICES_EXPENDITURE</th>\n",
              "      <th>OTHER_EXPENDITURE</th>\n",
              "      <th>CAPITAL_OUTLAY_EXPENDITURE</th>\n",
              "      <th>GRADES_PK_G</th>\n",
              "      <th>GRADES_KG_G</th>\n",
              "      <th>GRADES_4_G</th>\n",
              "      <th>GRADES_8_G</th>\n",
              "      <th>GRADES_12_G</th>\n",
              "      <th>GRADES_1_8_G</th>\n",
              "      <th>GRADES_9_12_G</th>\n",
              "      <th>GRADES_ALL_G</th>\n",
              "      <th>AVG_MATH_4_SCORE</th>\n",
              "      <th>AVG_MATH_8_SCORE</th>\n",
              "      <th>AVG_READING_4_SCORE</th>\n",
              "      <th>AVG_READING_8_SCORE</th>\n",
              "    </tr>\n",
              "  </thead>\n",
              "  <tbody>\n",
              "    <tr>\n",
              "      <th>0</th>\n",
              "      <td>1992_ALABAMA</td>\n",
              "      <td>ALABAMA</td>\n",
              "      <td>1992</td>\n",
              "      <td>NaN</td>\n",
              "      <td>2678885.0</td>\n",
              "      <td>304177.0</td>\n",
              "      <td>1659028.0</td>\n",
              "      <td>715680.0</td>\n",
              "      <td>2653798.0</td>\n",
              "      <td>1481703.0</td>\n",
              "      <td>735036.0</td>\n",
              "      <td>NaN</td>\n",
              "      <td>174053.0</td>\n",
              "      <td>8224.0</td>\n",
              "      <td>55460.0</td>\n",
              "      <td>57948.0</td>\n",
              "      <td>58025.0</td>\n",
              "      <td>41167.0</td>\n",
              "      <td>NaN</td>\n",
              "      <td>NaN</td>\n",
              "      <td>731634.0</td>\n",
              "      <td>208.0</td>\n",
              "      <td>252.0</td>\n",
              "      <td>207.0</td>\n",
              "      <td>NaN</td>\n",
              "    </tr>\n",
              "    <tr>\n",
              "      <th>1</th>\n",
              "      <td>1992_ALASKA</td>\n",
              "      <td>ALASKA</td>\n",
              "      <td>1992</td>\n",
              "      <td>NaN</td>\n",
              "      <td>1049591.0</td>\n",
              "      <td>106780.0</td>\n",
              "      <td>720711.0</td>\n",
              "      <td>222100.0</td>\n",
              "      <td>972488.0</td>\n",
              "      <td>498362.0</td>\n",
              "      <td>350902.0</td>\n",
              "      <td>NaN</td>\n",
              "      <td>37451.0</td>\n",
              "      <td>2371.0</td>\n",
              "      <td>10152.0</td>\n",
              "      <td>9748.0</td>\n",
              "      <td>8789.0</td>\n",
              "      <td>6714.0</td>\n",
              "      <td>NaN</td>\n",
              "      <td>NaN</td>\n",
              "      <td>122487.0</td>\n",
              "      <td>NaN</td>\n",
              "      <td>NaN</td>\n",
              "      <td>NaN</td>\n",
              "      <td>NaN</td>\n",
              "    </tr>\n",
              "    <tr>\n",
              "      <th>2</th>\n",
              "      <td>1992_ARIZONA</td>\n",
              "      <td>ARIZONA</td>\n",
              "      <td>1992</td>\n",
              "      <td>NaN</td>\n",
              "      <td>3258079.0</td>\n",
              "      <td>297888.0</td>\n",
              "      <td>1369815.0</td>\n",
              "      <td>1590376.0</td>\n",
              "      <td>3401580.0</td>\n",
              "      <td>1435908.0</td>\n",
              "      <td>1007732.0</td>\n",
              "      <td>NaN</td>\n",
              "      <td>609114.0</td>\n",
              "      <td>2544.0</td>\n",
              "      <td>53497.0</td>\n",
              "      <td>55433.0</td>\n",
              "      <td>49081.0</td>\n",
              "      <td>37410.0</td>\n",
              "      <td>NaN</td>\n",
              "      <td>NaN</td>\n",
              "      <td>673477.0</td>\n",
              "      <td>215.0</td>\n",
              "      <td>265.0</td>\n",
              "      <td>209.0</td>\n",
              "      <td>NaN</td>\n",
              "    </tr>\n",
              "  </tbody>\n",
              "</table>\n",
              "</div>"
            ],
            "text/plain": [
              "    PRIMARY_KEY    STATE  ...  AVG_READING_4_SCORE  AVG_READING_8_SCORE\n",
              "0  1992_ALABAMA  ALABAMA  ...                207.0                  NaN\n",
              "1   1992_ALASKA   ALASKA  ...                  NaN                  NaN\n",
              "2  1992_ARIZONA  ARIZONA  ...                209.0                  NaN\n",
              "\n",
              "[3 rows x 25 columns]"
            ]
          },
          "metadata": {
            "tags": []
          },
          "execution_count": 1
        }
      ]
    },
    {
      "cell_type": "code",
      "metadata": {
        "id": "zc179BpsbqsF",
        "outputId": "851fdbe1-c242-4f46-a8d8-22df4ec39722",
        "colab": {
          "base_uri": "https://localhost:8080/"
        }
      },
      "source": [
        "df.info()"
      ],
      "execution_count": 2,
      "outputs": [
        {
          "output_type": "stream",
          "text": [
            "<class 'pandas.core.frame.DataFrame'>\n",
            "RangeIndex: 1715 entries, 0 to 1714\n",
            "Data columns (total 25 columns):\n",
            " #   Column                        Non-Null Count  Dtype  \n",
            "---  ------                        --------------  -----  \n",
            " 0   PRIMARY_KEY                   1715 non-null   object \n",
            " 1   STATE                         1715 non-null   object \n",
            " 2   YEAR                          1715 non-null   int64  \n",
            " 3   ENROLL                        1224 non-null   float64\n",
            " 4   TOTAL_REVENUE                 1275 non-null   float64\n",
            " 5   FEDERAL_REVENUE               1275 non-null   float64\n",
            " 6   STATE_REVENUE                 1275 non-null   float64\n",
            " 7   LOCAL_REVENUE                 1275 non-null   float64\n",
            " 8   TOTAL_EXPENDITURE             1275 non-null   float64\n",
            " 9   INSTRUCTION_EXPENDITURE       1275 non-null   float64\n",
            " 10  SUPPORT_SERVICES_EXPENDITURE  1275 non-null   float64\n",
            " 11  OTHER_EXPENDITURE             1224 non-null   float64\n",
            " 12  CAPITAL_OUTLAY_EXPENDITURE    1275 non-null   float64\n",
            " 13  GRADES_PK_G                   1542 non-null   float64\n",
            " 14  GRADES_KG_G                   1632 non-null   float64\n",
            " 15  GRADES_4_G                    1632 non-null   float64\n",
            " 16  GRADES_8_G                    1632 non-null   float64\n",
            " 17  GRADES_12_G                   1632 non-null   float64\n",
            " 18  GRADES_1_8_G                  1020 non-null   float64\n",
            " 19  GRADES_9_12_G                 1071 non-null   float64\n",
            " 20  GRADES_ALL_G                  1632 non-null   float64\n",
            " 21  AVG_MATH_4_SCORE              565 non-null    float64\n",
            " 22  AVG_MATH_8_SCORE              602 non-null    float64\n",
            " 23  AVG_READING_4_SCORE           650 non-null    float64\n",
            " 24  AVG_READING_8_SCORE           562 non-null    float64\n",
            "dtypes: float64(22), int64(1), object(2)\n",
            "memory usage: 335.1+ KB\n"
          ],
          "name": "stdout"
        }
      ]
    },
    {
      "cell_type": "code",
      "metadata": {
        "id": "fLGePf3PbO29",
        "outputId": "19563596-60bd-4ea3-8759-1a1ede9c37ae",
        "colab": {
          "base_uri": "https://localhost:8080/"
        }
      },
      "source": [
        "df.TOTAL_REVENUE.unique()"
      ],
      "execution_count": 3,
      "outputs": [
        {
          "output_type": "execute_result",
          "data": {
            "text/plain": [
              "array([ 2678885.,  1049591.,  3258079., ..., 11697466.,  2044669.,\n",
              "             nan])"
            ]
          },
          "metadata": {
            "tags": []
          },
          "execution_count": 3
        }
      ]
    },
    {
      "cell_type": "code",
      "metadata": {
        "id": "bYu90504bemR",
        "outputId": "2c8370a5-cab3-4b2e-d433-7e64430ef2a7",
        "colab": {
          "base_uri": "https://localhost:8080/"
        }
      },
      "source": [
        "for sutun_adi in [\"TOTAL_REVENUE\", \"TOTAL_EXPENDITURE\"]:\n",
        "    print(\"{} sütunu için problemli değerler : \".format(sutun_adi))\n",
        "    hatali_degerler = []\n",
        "    for deger in df[sutun_adi]:\n",
        "        try:\n",
        "            float(deger)\n",
        "        except:\n",
        "            hatali_degerler.append(deger)\n",
        "    print(set(hatali_degerler))"
      ],
      "execution_count": 4,
      "outputs": [
        {
          "output_type": "stream",
          "text": [
            "TOTAL_REVENUE sütunu için problemli değerler : \n",
            "set()\n",
            "TOTAL_EXPENDITURE sütunu için problemli değerler : \n",
            "set()\n"
          ],
          "name": "stdout"
        }
      ]
    },
    {
      "cell_type": "code",
      "metadata": {
        "id": "7wp1vUm9eap1"
      },
      "source": [
        ""
      ],
      "execution_count": 4,
      "outputs": []
    },
    {
      "cell_type": "code",
      "metadata": {
        "id": "2JTLFvRNdPmN"
      },
      "source": [
        "states = list(df.STATE.unique())\n",
        "states\n",
        "\n",
        "for element in states:\n",
        "  df[\"TOTAL_REVENUE\"].fillna(df[df.STATE == element].TOTAL_REVENUE.mean(), inplace=True)\n",
        "\n",
        "for element in states:\n",
        "  df[\"TOTAL_EXPENDITURE\"].fillna(df[df.STATE == element].TOTAL_EXPENDITURE.mean(), inplace=True)"
      ],
      "execution_count": 5,
      "outputs": []
    },
    {
      "cell_type": "code",
      "metadata": {
        "id": "sIfvyEKLfNVa",
        "outputId": "e95eeb59-cf09-4460-83a2-31d7c3c529dc",
        "colab": {
          "base_uri": "https://localhost:8080/",
          "height": 390
        }
      },
      "source": [
        "plt.figure(figsize=(14,6))\n",
        "\n",
        "plt.subplot(1,2,1)\n",
        "plt.boxplot(df.TOTAL_REVENUE, whis=5)\n",
        "plt.title(\"Total Revenue\")\n",
        "\n",
        "\n",
        "plt.subplot(1,2,2)\n",
        "plt.boxplot(df.TOTAL_EXPENDITURE, whis=5)\n",
        "plt.title(\"Total Expenditure\")\n",
        "plt.show()\n",
        "\n",
        "#Grafiğe göre yorum yaparsak çok fazla outliner veri var gibi. Boxplottan outliner incelemek gerçekten pek fikir vermiyor.\n",
        "#İncelediğimiz değişkenler eyaletten eyalete gerçekten büyük farklar gösterebilir. Bir eyalet diğerlerine göre müthiş bir\n",
        "#gelire sahip olabilir aslında ve bu da grafikte outliner olarak görülebilir.\n",
        "\n",
        "# Amacımız 3. ve 4. çeyrek çizgisi arasını çok uzun tutmadan, aykırı değerlerin bazılarını uygun yöntemle; örneğin winsorize ile\n",
        "#veriden kaldırarak belirttiğim gibi bir grafik mi elde etmektir ? Ama bu aykırı gibi görünen değerler aslında oldukça anlamlı \n",
        "#olamaz mı ? Sırf aykırı gibi görünen değerlerden kurtulmak adına verinin gerçekliğini bozabilirim, bu da ileride modelimin başa-\n",
        "#rısızlığına neden olmaz mı ?\n",
        "\n",
        "#Bu iki kolonun aykırı değer içerip içermediğinden emin olamadım. Sadece teknikleri uygulamak adına aykırı değer ile baş etme\n",
        "#yöntemlerini aşağıdaki satırlarda uygulamaya devam edeceğim."
      ],
      "execution_count": 6,
      "outputs": [
        {
          "output_type": "display_data",
          "data": {
            "image/png": "[encoded data removed]",
            "text/plain": [
              "<Figure size 1008x432 with 2 Axes>"
            ]
          },
          "metadata": {
            "tags": [],
            "needs_background": "light"
          }
        }
      ]
    },
    {
      "cell_type": "code",
      "metadata": {
        "id": "hZaJL1i5CKRu"
      },
      "source": [
        ""
      ],
      "execution_count": 6,
      "outputs": []
    },
    {
      "cell_type": "code",
      "metadata": {
        "id": "XvVNI7Vogetd",
        "outputId": "42fc9852-43c8-4d6d-83e3-7768725c6ebb",
        "colab": {
          "base_uri": "https://localhost:8080/",
          "height": 399
        }
      },
      "source": [
        "plt.hist(df.TOTAL_REVENUE)\n",
        "\n",
        "##Histogram grafiğindeki x eksenindeki değerler benim total_revenue değerlerim olması gerekmiyor muydu. Grafikteki X ve Y değerleri ne total_revenue değerlerimden biri ,\n",
        "#ne de o değerlerin kaç defa tekrarladığını görüyor. Grafikten bunları vermesini bekliyordum, verdiği değerlerin ne olduğu konusunda kafam karıştı.\n",
        "\n",
        "#revenue kolonundaki unique değerleri hist grafiğinde göremedim mesela.\n"
      ],
      "execution_count": 7,
      "outputs": [
        {
          "output_type": "execute_result",
          "data": {
            "text/plain": [
              "(array([1.348e+03, 2.020e+02, 8.400e+01, 3.500e+01, 9.000e+00, 1.200e+01,\n",
              "        1.200e+01, 7.000e+00, 5.000e+00, 1.000e+00]),\n",
              " array([  465650.        ,  9340811.2       , 18215972.4       ,\n",
              "        27091133.6       , 35966294.8       , 44841456.        ,\n",
              "        53716617.2       , 62591778.39999999, 71466939.6       ,\n",
              "        80342100.8       , 89217262.        ]),\n",
              " <a list of 10 Patch objects>)"
            ]
          },
          "metadata": {
            "tags": []
          },
          "execution_count": 7
        },
        {
          "output_type": "display_data",
          "data": {
            "image/png": "[encoded data removed]",
            "text/plain": [
              "<Figure size 432x288 with 1 Axes>"
            ]
          },
          "metadata": {
            "tags": [],
            "needs_background": "light"
          }
        }
      ]
    },
    {
      "cell_type": "code",
      "metadata": {
        "id": "tPvwrFQKijzP",
        "outputId": "6e4cd12e-de9f-4bda-8664-5942cab187c2",
        "colab": {
          "base_uri": "https://localhost:8080/"
        }
      },
      "source": [
        "df[df.STATE == \"ALABAMA\"].TOTAL_REVENUE.unique()"
      ],
      "execution_count": 8,
      "outputs": [
        {
          "output_type": "execute_result",
          "data": {
            "text/plain": [
              "array([2678885.  , 2827391.  , 2970223.  , 3367437.  , 3365113.  ,\n",
              "       3981788.  , 4140537.  , 4471546.  , 4885917.  , 4832946.  ,\n",
              "       5128559.  , 5196054.  , 5356113.  , 5889966.  , 6364028.  ,\n",
              "       7069040.  , 7726213.  , 7186390.  , 7281058.  , 7376725.  ,\n",
              "       7136949.  , 7197439.  , 7357267.  , 7360222.  , 7498567.  ,\n",
              "       5545854.92])"
            ]
          },
          "metadata": {
            "tags": []
          },
          "execution_count": 8
        }
      ]
    },
    {
      "cell_type": "code",
      "metadata": {
        "id": "XVL2oZRxjqkh",
        "outputId": "58df3fd9-f8c3-482b-d90c-ecfa2f3f9701",
        "colab": {
          "base_uri": "https://localhost:8080/"
        }
      },
      "source": [
        "#z-score ile aykırı değerleri inceleyebiliriz.\n",
        "#z-score kullanırken eşik değer ne vermek gerektiğinden emin değilim. İlgilendiğimiz değişkenin değerlerinden birini vermemiz gerektiğini düşünmüştüm.\n",
        "#ancak z-score konu anlatımında 1,2,3 gibi eşik değerler kullandık. Bende aşağıda öyle yapıyorum.\n",
        "\n",
        "from scipy.stats import zscore\n",
        "\n",
        "\n",
        "for elements in [\"TOTAL_REVENUE\", \"TOTAL_EXPENDITURE\"]:\n",
        "\n",
        "  z_scores = zscore(df[elements])\n",
        "\n",
        "\n",
        "  for threshold in range(1,5):\n",
        "    print(\"Eşik değeri: {}\".format(threshold))\n",
        "    print(\"{} için Aykırı değerlerin sayısı: {}\".format(elements, len((np.where(z_scores > threshold)[0]))))\n",
        "    print('------')\n",
        "\n"
      ],
      "execution_count": 83,
      "outputs": [
        {
          "output_type": "stream",
          "text": [
            "Eşik değeri: 1\n",
            "TOTAL_REVENUE için Aykırı değerlerin sayısı: 164\n",
            "------\n",
            "Eşik değeri: 2\n",
            "TOTAL_REVENUE için Aykırı değerlerin sayısı: 70\n",
            "------\n",
            "Eşik değeri: 3\n",
            "TOTAL_REVENUE için Aykırı değerlerin sayısı: 43\n",
            "------\n",
            "Eşik değeri: 4\n",
            "TOTAL_REVENUE için Aykırı değerlerin sayısı: 33\n",
            "------\n",
            "Eşik değeri: 1\n",
            "TOTAL_EXPENDITURE için Aykırı değerlerin sayısı: 159\n",
            "------\n",
            "Eşik değeri: 2\n",
            "TOTAL_EXPENDITURE için Aykırı değerlerin sayısı: 67\n",
            "------\n",
            "Eşik değeri: 3\n",
            "TOTAL_EXPENDITURE için Aykırı değerlerin sayısı: 44\n",
            "------\n",
            "Eşik değeri: 4\n",
            "TOTAL_EXPENDITURE için Aykırı değerlerin sayısı: 35\n",
            "------\n"
          ],
          "name": "stdout"
        }
      ]
    },
    {
      "cell_type": "code",
      "metadata": {
        "id": "dIog1ompwKhO",
        "outputId": "e82ff6b8-cbf1-42bb-9e3e-466c59a04bb4",
        "colab": {
          "base_uri": "https://localhost:8080/",
          "height": 297
        }
      },
      "source": [
        "# Tukkey'in yöntemi - TOTAL REVENUE\n",
        "\n",
        "\n",
        "\n",
        "q75, q25= np.percentile(df.TOTAL_REVENUE, [75,25])\n",
        "caa = q75-q25\n",
        "\n",
        "esik_degerleri1 = pd.DataFrame()\n",
        "\n",
        "for esik_degeri in np.arange(1,5,0.5):\n",
        "    min_deger = q25 - (caa*esik_degeri)\n",
        "    maks_deger = q75 + (caa*esik_degeri)\n",
        "    aykiri_deger_sayisi = len((np.where((df.TOTAL_REVENUE > maks_deger)| \n",
        "                                       (df.TOTAL_REVENUE < min_deger))[0]))\n",
        "    \n",
        "    esik_degerleri1 = esik_degerleri1.append({'esik_degeri': esik_degeri,'aykiri_deger_sayısı': aykiri_deger_sayisi}, \n",
        "                                           ignore_index=True)\n",
        "esik_degerleri1"
      ],
      "execution_count": 85,
      "outputs": [
        {
          "output_type": "execute_result",
          "data": {
            "text/html": [
              "<div>\n",
              "<style scoped>\n",
              "    .dataframe tbody tr th:only-of-type {\n",
              "        vertical-align: middle;\n",
              "    }\n",
              "\n",
              "    .dataframe tbody tr th {\n",
              "        vertical-align: top;\n",
              "    }\n",
              "\n",
              "    .dataframe thead th {\n",
              "        text-align: right;\n",
              "    }\n",
              "</style>\n",
              "<table border=\"1\" class=\"dataframe\">\n",
              "  <thead>\n",
              "    <tr style=\"text-align: right;\">\n",
              "      <th></th>\n",
              "      <th>aykiri_deger_sayısı</th>\n",
              "      <th>esik_degeri</th>\n",
              "    </tr>\n",
              "  </thead>\n",
              "  <tbody>\n",
              "    <tr>\n",
              "      <th>0</th>\n",
              "      <td>246.0</td>\n",
              "      <td>1.0</td>\n",
              "    </tr>\n",
              "    <tr>\n",
              "      <th>1</th>\n",
              "      <td>195.0</td>\n",
              "      <td>1.5</td>\n",
              "    </tr>\n",
              "    <tr>\n",
              "      <th>2</th>\n",
              "      <td>161.0</td>\n",
              "      <td>2.0</td>\n",
              "    </tr>\n",
              "    <tr>\n",
              "      <th>3</th>\n",
              "      <td>132.0</td>\n",
              "      <td>2.5</td>\n",
              "    </tr>\n",
              "    <tr>\n",
              "      <th>4</th>\n",
              "      <td>111.0</td>\n",
              "      <td>3.0</td>\n",
              "    </tr>\n",
              "    <tr>\n",
              "      <th>5</th>\n",
              "      <td>90.0</td>\n",
              "      <td>3.5</td>\n",
              "    </tr>\n",
              "    <tr>\n",
              "      <th>6</th>\n",
              "      <td>70.0</td>\n",
              "      <td>4.0</td>\n",
              "    </tr>\n",
              "    <tr>\n",
              "      <th>7</th>\n",
              "      <td>54.0</td>\n",
              "      <td>4.5</td>\n",
              "    </tr>\n",
              "  </tbody>\n",
              "</table>\n",
              "</div>"
            ],
            "text/plain": [
              "   aykiri_deger_sayısı  esik_degeri\n",
              "0                246.0          1.0\n",
              "1                195.0          1.5\n",
              "2                161.0          2.0\n",
              "3                132.0          2.5\n",
              "4                111.0          3.0\n",
              "5                 90.0          3.5\n",
              "6                 70.0          4.0\n",
              "7                 54.0          4.5"
            ]
          },
          "metadata": {
            "tags": []
          },
          "execution_count": 85
        }
      ]
    },
    {
      "cell_type": "code",
      "metadata": {
        "id": "Gp0zqlTjGaWQ",
        "outputId": "d57ecaf7-1248-4b90-9dbc-440b85cf5a82",
        "colab": {
          "base_uri": "https://localhost:8080/",
          "height": 297
        }
      },
      "source": [
        "#Tukkey for Total_Expenditure\n",
        "\n",
        "q75, q25= np.percentile(df.TOTAL_EXPENDITURE, [75,25])\n",
        "caa = q75-q25\n",
        "\n",
        "esik_degerleri2 = pd.DataFrame()\n",
        "\n",
        "for esik_degeri in np.arange(1,5,0.5):\n",
        "    min_deger = q25 - (caa*esik_degeri)\n",
        "    maks_deger = q75 + (caa*esik_degeri)\n",
        "    aykiri_deger_sayisi = len((np.where((df.TOTAL_EXPENDITURE > maks_deger)| \n",
        "                                       (df.TOTAL_EXPENDITURE < min_deger))[0]))\n",
        "    \n",
        "    esik_degerleri2 = esik_degerleri2.append({'esik_degeri': esik_degeri,'aykiri_deger_sayısı': aykiri_deger_sayisi}, \n",
        "                                           ignore_index=True)\n",
        "esik_degerleri2\n",
        "  "
      ],
      "execution_count": 86,
      "outputs": [
        {
          "output_type": "execute_result",
          "data": {
            "text/html": [
              "<div>\n",
              "<style scoped>\n",
              "    .dataframe tbody tr th:only-of-type {\n",
              "        vertical-align: middle;\n",
              "    }\n",
              "\n",
              "    .dataframe tbody tr th {\n",
              "        vertical-align: top;\n",
              "    }\n",
              "\n",
              "    .dataframe thead th {\n",
              "        text-align: right;\n",
              "    }\n",
              "</style>\n",
              "<table border=\"1\" class=\"dataframe\">\n",
              "  <thead>\n",
              "    <tr style=\"text-align: right;\">\n",
              "      <th></th>\n",
              "      <th>aykiri_deger_sayısı</th>\n",
              "      <th>esik_degeri</th>\n",
              "    </tr>\n",
              "  </thead>\n",
              "  <tbody>\n",
              "    <tr>\n",
              "      <th>0</th>\n",
              "      <td>246.0</td>\n",
              "      <td>1.0</td>\n",
              "    </tr>\n",
              "    <tr>\n",
              "      <th>1</th>\n",
              "      <td>195.0</td>\n",
              "      <td>1.5</td>\n",
              "    </tr>\n",
              "    <tr>\n",
              "      <th>2</th>\n",
              "      <td>160.0</td>\n",
              "      <td>2.0</td>\n",
              "    </tr>\n",
              "    <tr>\n",
              "      <th>3</th>\n",
              "      <td>134.0</td>\n",
              "      <td>2.5</td>\n",
              "    </tr>\n",
              "    <tr>\n",
              "      <th>4</th>\n",
              "      <td>109.0</td>\n",
              "      <td>3.0</td>\n",
              "    </tr>\n",
              "    <tr>\n",
              "      <th>5</th>\n",
              "      <td>95.0</td>\n",
              "      <td>3.5</td>\n",
              "    </tr>\n",
              "    <tr>\n",
              "      <th>6</th>\n",
              "      <td>67.0</td>\n",
              "      <td>4.0</td>\n",
              "    </tr>\n",
              "    <tr>\n",
              "      <th>7</th>\n",
              "      <td>56.0</td>\n",
              "      <td>4.5</td>\n",
              "    </tr>\n",
              "  </tbody>\n",
              "</table>\n",
              "</div>"
            ],
            "text/plain": [
              "   aykiri_deger_sayısı  esik_degeri\n",
              "0                246.0          1.0\n",
              "1                195.0          1.5\n",
              "2                160.0          2.0\n",
              "3                134.0          2.5\n",
              "4                109.0          3.0\n",
              "5                 95.0          3.5\n",
              "6                 67.0          4.0\n",
              "7                 56.0          4.5"
            ]
          },
          "metadata": {
            "tags": []
          },
          "execution_count": 86
        }
      ]
    },
    {
      "cell_type": "code",
      "metadata": {
        "id": "G2FGXjx5HllE",
        "outputId": "206ac01c-8fe9-4422-a2f3-d67cd09b88e8",
        "colab": {
          "base_uri": "https://localhost:8080/",
          "height": 227
        }
      },
      "source": [
        "#Winsorise yöntemi ile aykırı değerlerden kurtulmayı tercih ediyorum. Tek yönlü aykırılık olduğundan sadece yukarı yön için parametreye değer veriyorum.\n",
        "\n",
        "\n",
        "from scipy.stats.mstats import winsorize\n",
        "\n",
        "winsorize_revenue = winsorize(df.TOTAL_REVENUE, (0, 0.12))\n",
        "\n",
        "\n",
        "winsorize_expenditure = winsorize(df.TOTAL_EXPENDITURE, (0, 0.12))\n",
        "\n",
        "plt.figure(figsize=(10,3))\n",
        "\n",
        "plt.subplot(1,2,1)\n",
        "plt.boxplot(winsorize_revenue)\n",
        "plt.title(\"Total Revenue kutu grafiği (whis=5)\")\n",
        "\n",
        "plt.subplot(1,2,2)\n",
        "plt.boxplot(winsorize_expenditure)\n",
        "plt.title(\"Total Expenditure kutu grafiği (whis=5)\")\n",
        "plt.show()"
      ],
      "execution_count": 70,
      "outputs": [
        {
          "output_type": "display_data",
          "data": {
            "image/png": "[encoded data removed]",
            "text/plain": [
              "<Figure size 720x216 with 2 Axes>"
            ]
          },
          "metadata": {
            "tags": [],
            "needs_background": "light"
          }
        }
      ]
    },
    {
      "cell_type": "code",
      "metadata": {
        "id": "WhU8vlSCllg1",
        "outputId": "5d5cb5b4-d370-4a56-9a5e-8e1fbcd5a9a0",
        "colab": {
          "base_uri": "https://localhost:8080/",
          "height": 297
        }
      },
      "source": [
        "q75, q25= np.percentile(winsorize_revenue, [75,25])\n",
        "caa = q75-q25\n",
        "\n",
        "esik_degerleri3 = pd.DataFrame()\n",
        "\n",
        "for esik_degeri in np.arange(1,5,0.5):\n",
        "    min_deger = q25 - (caa*esik_degeri)\n",
        "    maks_deger = q75 + (caa*esik_degeri)\n",
        "    aykiri_deger_sayisi = len((np.where((winsorize_revenue > maks_deger)| \n",
        "                                       (winsorize_revenue < min_deger))[0]))\n",
        "    \n",
        "    esik_degerleri3 = esik_degerleri3.append({'esik_degeri': esik_degeri,'aykiri_deger_sayısı': aykiri_deger_sayisi}, \n",
        "                                           ignore_index=True)\n",
        "\n",
        "esik_degerleri3"
      ],
      "execution_count": 87,
      "outputs": [
        {
          "output_type": "execute_result",
          "data": {
            "text/html": [
              "<div>\n",
              "<style scoped>\n",
              "    .dataframe tbody tr th:only-of-type {\n",
              "        vertical-align: middle;\n",
              "    }\n",
              "\n",
              "    .dataframe tbody tr th {\n",
              "        vertical-align: top;\n",
              "    }\n",
              "\n",
              "    .dataframe thead th {\n",
              "        text-align: right;\n",
              "    }\n",
              "</style>\n",
              "<table border=\"1\" class=\"dataframe\">\n",
              "  <thead>\n",
              "    <tr style=\"text-align: right;\">\n",
              "      <th></th>\n",
              "      <th>aykiri_deger_sayısı</th>\n",
              "      <th>esik_degeri</th>\n",
              "    </tr>\n",
              "  </thead>\n",
              "  <tbody>\n",
              "    <tr>\n",
              "      <th>0</th>\n",
              "      <td>246.0</td>\n",
              "      <td>1.0</td>\n",
              "    </tr>\n",
              "    <tr>\n",
              "      <th>1</th>\n",
              "      <td>0.0</td>\n",
              "      <td>1.5</td>\n",
              "    </tr>\n",
              "    <tr>\n",
              "      <th>2</th>\n",
              "      <td>0.0</td>\n",
              "      <td>2.0</td>\n",
              "    </tr>\n",
              "    <tr>\n",
              "      <th>3</th>\n",
              "      <td>0.0</td>\n",
              "      <td>2.5</td>\n",
              "    </tr>\n",
              "    <tr>\n",
              "      <th>4</th>\n",
              "      <td>0.0</td>\n",
              "      <td>3.0</td>\n",
              "    </tr>\n",
              "    <tr>\n",
              "      <th>5</th>\n",
              "      <td>0.0</td>\n",
              "      <td>3.5</td>\n",
              "    </tr>\n",
              "    <tr>\n",
              "      <th>6</th>\n",
              "      <td>0.0</td>\n",
              "      <td>4.0</td>\n",
              "    </tr>\n",
              "    <tr>\n",
              "      <th>7</th>\n",
              "      <td>0.0</td>\n",
              "      <td>4.5</td>\n",
              "    </tr>\n",
              "  </tbody>\n",
              "</table>\n",
              "</div>"
            ],
            "text/plain": [
              "   aykiri_deger_sayısı  esik_degeri\n",
              "0                246.0          1.0\n",
              "1                  0.0          1.5\n",
              "2                  0.0          2.0\n",
              "3                  0.0          2.5\n",
              "4                  0.0          3.0\n",
              "5                  0.0          3.5\n",
              "6                  0.0          4.0\n",
              "7                  0.0          4.5"
            ]
          },
          "metadata": {
            "tags": []
          },
          "execution_count": 87
        }
      ]
    },
    {
      "cell_type": "code",
      "metadata": {
        "id": "0ybvl9Gkne-j",
        "outputId": "c3b2e55f-a5a6-4d11-a2bd-a20a126dd5d8",
        "colab": {
          "base_uri": "https://localhost:8080/",
          "height": 297
        }
      },
      "source": [
        "q75, q25= np.percentile(winsorize_expenditure, [75,25])\n",
        "caa = q75-q25\n",
        "\n",
        "esik_degerleri4 = pd.DataFrame()\n",
        "\n",
        "for esik_degeri in np.arange(1,5,0.5):\n",
        "    min_deger = q25 - (caa*esik_degeri)\n",
        "    maks_deger = q75 + (caa*esik_degeri)\n",
        "    aykiri_deger_sayisi = len((np.where((winsorize_expenditure > maks_deger)| \n",
        "                                       (winsorize_expenditure < min_deger))[0]))\n",
        "    \n",
        "    esik_degerleri4 = esik_degerleri4.append({'esik_degeri': esik_degeri,'aykiri_deger_sayısı': aykiri_deger_sayisi}, \n",
        "                                           ignore_index=True)\n",
        "\n",
        "esik_degerleri4"
      ],
      "execution_count": 88,
      "outputs": [
        {
          "output_type": "execute_result",
          "data": {
            "text/html": [
              "<div>\n",
              "<style scoped>\n",
              "    .dataframe tbody tr th:only-of-type {\n",
              "        vertical-align: middle;\n",
              "    }\n",
              "\n",
              "    .dataframe tbody tr th {\n",
              "        vertical-align: top;\n",
              "    }\n",
              "\n",
              "    .dataframe thead th {\n",
              "        text-align: right;\n",
              "    }\n",
              "</style>\n",
              "<table border=\"1\" class=\"dataframe\">\n",
              "  <thead>\n",
              "    <tr style=\"text-align: right;\">\n",
              "      <th></th>\n",
              "      <th>aykiri_deger_sayısı</th>\n",
              "      <th>esik_degeri</th>\n",
              "    </tr>\n",
              "  </thead>\n",
              "  <tbody>\n",
              "    <tr>\n",
              "      <th>0</th>\n",
              "      <td>246.0</td>\n",
              "      <td>1.0</td>\n",
              "    </tr>\n",
              "    <tr>\n",
              "      <th>1</th>\n",
              "      <td>0.0</td>\n",
              "      <td>1.5</td>\n",
              "    </tr>\n",
              "    <tr>\n",
              "      <th>2</th>\n",
              "      <td>0.0</td>\n",
              "      <td>2.0</td>\n",
              "    </tr>\n",
              "    <tr>\n",
              "      <th>3</th>\n",
              "      <td>0.0</td>\n",
              "      <td>2.5</td>\n",
              "    </tr>\n",
              "    <tr>\n",
              "      <th>4</th>\n",
              "      <td>0.0</td>\n",
              "      <td>3.0</td>\n",
              "    </tr>\n",
              "    <tr>\n",
              "      <th>5</th>\n",
              "      <td>0.0</td>\n",
              "      <td>3.5</td>\n",
              "    </tr>\n",
              "    <tr>\n",
              "      <th>6</th>\n",
              "      <td>0.0</td>\n",
              "      <td>4.0</td>\n",
              "    </tr>\n",
              "    <tr>\n",
              "      <th>7</th>\n",
              "      <td>0.0</td>\n",
              "      <td>4.5</td>\n",
              "    </tr>\n",
              "  </tbody>\n",
              "</table>\n",
              "</div>"
            ],
            "text/plain": [
              "   aykiri_deger_sayısı  esik_degeri\n",
              "0                246.0          1.0\n",
              "1                  0.0          1.5\n",
              "2                  0.0          2.0\n",
              "3                  0.0          2.5\n",
              "4                  0.0          3.0\n",
              "5                  0.0          3.5\n",
              "6                  0.0          4.0\n",
              "7                  0.0          4.5"
            ]
          },
          "metadata": {
            "tags": []
          },
          "execution_count": 88
        }
      ]
    },
    {
      "cell_type": "code",
      "metadata": {
        "id": "otadGyC1oD2-",
        "outputId": "6a985830-43e1-4906-d07a-890c837d49ff",
        "colab": {
          "base_uri": "https://localhost:8080/",
          "height": 297
        }
      },
      "source": [
        "##Toplam gelir (TOTAL_REVENUE) değişkeninden, toplam harcama (TOTAL_EXPENDITURE) değerini çıkartarak bütçe açığı olarak düşünülebilecek bir değişken oluşturun (aykırı değerleri temezlemeden).\n",
        "##Bu yeni değişkende de aykırı değerler yer almakta mı? Varsa bu aykırı değerleri de temizleyin.\n",
        "\n",
        "df[\"DIFFERENCE\"]= df.TOTAL_REVENUE - df.TOTAL_EXPENDITURE\n",
        "\n",
        "#Tukkey ile aykırı değerlerin incelenmesi\n",
        "\n",
        "esik_degerleri5 = pd.DataFrame()\n",
        "\n",
        "q75, q25 = np.percentile(df.DIFFERENCE, [75,25])\n",
        "caa = q75-q25\n",
        "\n",
        "for esik_degeri in np.arange(1,5,0.5):\n",
        "  min_deger = q25 - (caa*esik_degeri)\n",
        "  max_deger = q75 + (caa*esik_degeri)\n",
        "\n",
        "  aykırı_deger_sayısı = len((np.where((df.DIFFERENCE > max_deger) |\n",
        "                        (df.DIFFERENCE < min_deger))[0]))\n",
        "  \n",
        "  esik_degerleri5 = esik_degerleri5.append({\"esik_degeri\": esik_degeri, \"aykırı_deger_sayısı\" : aykırı_deger_sayısı}, ignore_index=True)\n",
        "esik_degerleri5\n",
        "\n",
        "\n"
      ],
      "execution_count": 118,
      "outputs": [
        {
          "output_type": "execute_result",
          "data": {
            "text/html": [
              "<div>\n",
              "<style scoped>\n",
              "    .dataframe tbody tr th:only-of-type {\n",
              "        vertical-align: middle;\n",
              "    }\n",
              "\n",
              "    .dataframe tbody tr th {\n",
              "        vertical-align: top;\n",
              "    }\n",
              "\n",
              "    .dataframe thead th {\n",
              "        text-align: right;\n",
              "    }\n",
              "</style>\n",
              "<table border=\"1\" class=\"dataframe\">\n",
              "  <thead>\n",
              "    <tr style=\"text-align: right;\">\n",
              "      <th></th>\n",
              "      <th>aykırı_deger_sayısı</th>\n",
              "      <th>esik_degeri</th>\n",
              "    </tr>\n",
              "  </thead>\n",
              "  <tbody>\n",
              "    <tr>\n",
              "      <th>0</th>\n",
              "      <td>364.0</td>\n",
              "      <td>1.0</td>\n",
              "    </tr>\n",
              "    <tr>\n",
              "      <th>1</th>\n",
              "      <td>274.0</td>\n",
              "      <td>1.5</td>\n",
              "    </tr>\n",
              "    <tr>\n",
              "      <th>2</th>\n",
              "      <td>237.0</td>\n",
              "      <td>2.0</td>\n",
              "    </tr>\n",
              "    <tr>\n",
              "      <th>3</th>\n",
              "      <td>186.0</td>\n",
              "      <td>2.5</td>\n",
              "    </tr>\n",
              "    <tr>\n",
              "      <th>4</th>\n",
              "      <td>152.0</td>\n",
              "      <td>3.0</td>\n",
              "    </tr>\n",
              "    <tr>\n",
              "      <th>5</th>\n",
              "      <td>126.0</td>\n",
              "      <td>3.5</td>\n",
              "    </tr>\n",
              "    <tr>\n",
              "      <th>6</th>\n",
              "      <td>111.0</td>\n",
              "      <td>4.0</td>\n",
              "    </tr>\n",
              "    <tr>\n",
              "      <th>7</th>\n",
              "      <td>99.0</td>\n",
              "      <td>4.5</td>\n",
              "    </tr>\n",
              "  </tbody>\n",
              "</table>\n",
              "</div>"
            ],
            "text/plain": [
              "   aykırı_deger_sayısı  esik_degeri\n",
              "0                364.0          1.0\n",
              "1                274.0          1.5\n",
              "2                237.0          2.0\n",
              "3                186.0          2.5\n",
              "4                152.0          3.0\n",
              "5                126.0          3.5\n",
              "6                111.0          4.0\n",
              "7                 99.0          4.5"
            ]
          },
          "metadata": {
            "tags": []
          },
          "execution_count": 118
        }
      ]
    },
    {
      "cell_type": "code",
      "metadata": {
        "id": "5zD9RhuPydQ5",
        "outputId": "f59af763-77af-40c1-e34b-c1c4cb8fe798",
        "colab": {
          "base_uri": "https://localhost:8080/",
          "height": 298
        }
      },
      "source": [
        "plt.boxplot(df.DIFFERENCE, whis=5)\n",
        "plt.title(\"Difference Boxplot (whis=5)\")"
      ],
      "execution_count": 101,
      "outputs": [
        {
          "output_type": "execute_result",
          "data": {
            "text/plain": [
              "Text(0.5, 1.0, 'Difference Boxplot (whis=5)')"
            ]
          },
          "metadata": {
            "tags": []
          },
          "execution_count": 101
        },
        {
          "output_type": "display_data",
          "data": {
            "image/png": "[encoded data removed]",
            "text/plain": [
              "<Figure size 432x288 with 1 Axes>"
            ]
          },
          "metadata": {
            "tags": [],
            "needs_background": "light"
          }
        }
      ]
    },
    {
      "cell_type": "code",
      "metadata": {
        "id": "hNDqvMZdsBeU",
        "outputId": "046e9d21-a097-4c6f-8088-1c58e1f2ec96",
        "colab": {
          "base_uri": "https://localhost:8080/",
          "height": 244
        }
      },
      "source": [
        "#aykırı değerleri temizlemek için winsorize uygulandı. Aykırı değerler 2 yönlü olduğu için winsorize iki yönlü uygulandı.\n",
        "\n",
        "winsorize_difference = winsorize(df.DIFFERENCE, (0.09, 0.12))\n",
        "\n",
        "plt.figure(figsize=(10,3))\n",
        "\n",
        "plt.boxplot(winsorize_difference)\n",
        "plt.title(\"Differnce kutu grafiği (whis=5)\")\n"
      ],
      "execution_count": 114,
      "outputs": [
        {
          "output_type": "execute_result",
          "data": {
            "text/plain": [
              "Text(0.5, 1.0, 'Differnce kutu grafiği (whis=5)')"
            ]
          },
          "metadata": {
            "tags": []
          },
          "execution_count": 114
        },
        {
          "output_type": "display_data",
          "data": {
            "image/png": "[encoded data removed]",
            "text/plain": [
              "<Figure size 720x216 with 1 Axes>"
            ]
          },
          "metadata": {
            "tags": [],
            "needs_background": "light"
          }
        }
      ]
    },
    {
      "cell_type": "code",
      "metadata": {
        "id": "hpeC4vY8yKqK",
        "outputId": "bf068438-1480-4549-b7d6-c0ebdc8b8c37",
        "colab": {
          "base_uri": "https://localhost:8080/",
          "height": 297
        }
      },
      "source": [
        "#Tukkey ile winsorize uygulanmış aykırı değerlerin incelenmesi\n",
        "\n",
        "esik_degerleri6 = pd.DataFrame()\n",
        "\n",
        "q75, q25 = np.percentile(winsorize_difference, [75,25])\n",
        "caa = q75-q25\n",
        "\n",
        "for esik_degeri in np.arange(1,5,0.5):\n",
        "  min_deger = q25 - (caa*esik_degeri)\n",
        "  max_deger = q75 + (caa*esik_degeri)\n",
        "\n",
        "  aykırı_deger_sayısı = len((np.where((winsorize_difference > max_deger) |\n",
        "                        (winsorize_difference < min_deger))[0]))\n",
        "  \n",
        "  esik_degerleri6 = esik_degerleri6.append({\"esik_degeri\": esik_degeri, \"aykırı_deger_sayısı\" : aykırı_deger_sayısı}, ignore_index=True)\n",
        "esik_degerleri6\n"
      ],
      "execution_count": 116,
      "outputs": [
        {
          "output_type": "execute_result",
          "data": {
            "text/html": [
              "<div>\n",
              "<style scoped>\n",
              "    .dataframe tbody tr th:only-of-type {\n",
              "        vertical-align: middle;\n",
              "    }\n",
              "\n",
              "    .dataframe tbody tr th {\n",
              "        vertical-align: top;\n",
              "    }\n",
              "\n",
              "    .dataframe thead th {\n",
              "        text-align: right;\n",
              "    }\n",
              "</style>\n",
              "<table border=\"1\" class=\"dataframe\">\n",
              "  <thead>\n",
              "    <tr style=\"text-align: right;\">\n",
              "      <th></th>\n",
              "      <th>aykırı_deger_sayısı</th>\n",
              "      <th>esik_degeri</th>\n",
              "    </tr>\n",
              "  </thead>\n",
              "  <tbody>\n",
              "    <tr>\n",
              "      <th>0</th>\n",
              "      <td>195.0</td>\n",
              "      <td>1.0</td>\n",
              "    </tr>\n",
              "    <tr>\n",
              "      <th>1</th>\n",
              "      <td>0.0</td>\n",
              "      <td>1.5</td>\n",
              "    </tr>\n",
              "    <tr>\n",
              "      <th>2</th>\n",
              "      <td>0.0</td>\n",
              "      <td>2.0</td>\n",
              "    </tr>\n",
              "    <tr>\n",
              "      <th>3</th>\n",
              "      <td>0.0</td>\n",
              "      <td>2.5</td>\n",
              "    </tr>\n",
              "    <tr>\n",
              "      <th>4</th>\n",
              "      <td>0.0</td>\n",
              "      <td>3.0</td>\n",
              "    </tr>\n",
              "    <tr>\n",
              "      <th>5</th>\n",
              "      <td>0.0</td>\n",
              "      <td>3.5</td>\n",
              "    </tr>\n",
              "    <tr>\n",
              "      <th>6</th>\n",
              "      <td>0.0</td>\n",
              "      <td>4.0</td>\n",
              "    </tr>\n",
              "    <tr>\n",
              "      <th>7</th>\n",
              "      <td>0.0</td>\n",
              "      <td>4.5</td>\n",
              "    </tr>\n",
              "  </tbody>\n",
              "</table>\n",
              "</div>"
            ],
            "text/plain": [
              "   aykırı_deger_sayısı  esik_degeri\n",
              "0                195.0          1.0\n",
              "1                  0.0          1.5\n",
              "2                  0.0          2.0\n",
              "3                  0.0          2.5\n",
              "4                  0.0          3.0\n",
              "5                  0.0          3.5\n",
              "6                  0.0          4.0\n",
              "7                  0.0          4.5"
            ]
          },
          "metadata": {
            "tags": []
          },
          "execution_count": 116
        }
      ]
    },
    {
      "cell_type": "code",
      "metadata": {
        "id": "ZrNuiHlj0Ix5",
        "outputId": "c9e21850-b5ab-48e5-afb7-52b924de94a3",
        "colab": {
          "base_uri": "https://localhost:8080/",
          "height": 412
        }
      },
      "source": [
        "##Yine toplam gelir (TOTAL_REVENUE) değişkeninden, toplam harcama(TOTAL_EXPENDITURE) değerini çıkartarak bütçe açığı olarak düşünülebilecek bir değişken oluşturun. \n",
        "#Fakat bu sefer aykırı değerleri temezledikten sonra bu işlemi yapın. Bu yeni değişkende de aykırı değerler var mı?\n",
        "# Varsa bunları da temizlemekte fayda var.\n",
        "\n",
        "df[\"DIFFERENCE_CLEANED\"] = winsorize_revenue - winsorive_expenditure\n",
        "\n",
        "plt.boxplot(df.DIFFERENCE_CLEANED) # Temizlenmiş aykırı değerler ile yeni kolon olusturuldugunda yine aykırı değerlerin olduğu görülüyor.\n"
      ],
      "execution_count": 120,
      "outputs": [
        {
          "output_type": "execute_result",
          "data": {
            "text/plain": [
              "{'boxes': [<matplotlib.lines.Line2D at 0x7f1a00b772d0>],\n",
              " 'caps': [<matplotlib.lines.Line2D at 0x7f1a01176c50>,\n",
              "  <matplotlib.lines.Line2D at 0x7f1a010bb090>],\n",
              " 'fliers': [<matplotlib.lines.Line2D at 0x7f1a01154750>],\n",
              " 'means': [],\n",
              " 'medians': [<matplotlib.lines.Line2D at 0x7f1a010bbad0>],\n",
              " 'whiskers': [<matplotlib.lines.Line2D at 0x7f1a01176ed0>,\n",
              "  <matplotlib.lines.Line2D at 0x7f1a011764d0>]}"
            ]
          },
          "metadata": {
            "tags": []
          },
          "execution_count": 120
        },
        {
          "output_type": "display_data",
          "data": {
            "image/png": "[encoded data removed]",
            "text/plain": [
              "<Figure size 432x288 with 1 Axes>"
            ]
          },
          "metadata": {
            "tags": [],
            "needs_background": "light"
          }
        }
      ]
    },
    {
      "cell_type": "code",
      "metadata": {
        "id": "ciAcEjbK1Bsr",
        "outputId": "c05007c2-a862-431b-abfd-2d78ca705d56",
        "colab": {
          "base_uri": "https://localhost:8080/",
          "height": 401
        }
      },
      "source": [
        "winsorize_difference_cleaned = winsorize (df.DIFFERENCE_CLEANED, (0.15,0.12))\n",
        "\n",
        "plt.boxplot(winsorize_difference_cleaned) # 3. soruda kullanılan aynı winsorize parametreleri kullanıldığında hala aykırı değerler olduğu görülüyor\n",
        "#aşağı yönlü değer için 0.09 yerine 0.15 kullanıldı\n"
      ],
      "execution_count": 129,
      "outputs": [
        {
          "output_type": "execute_result",
          "data": {
            "text/plain": [
              "{'boxes': [<matplotlib.lines.Line2D at 0x7f1a00935cd0>],\n",
              " 'caps': [<matplotlib.lines.Line2D at 0x7f1a008bbcd0>,\n",
              "  <matplotlib.lines.Line2D at 0x7f1a008c2250>],\n",
              " 'fliers': [<matplotlib.lines.Line2D at 0x7f1a008c2d10>],\n",
              " 'means': [],\n",
              " 'medians': [<matplotlib.lines.Line2D at 0x7f1a008c27d0>],\n",
              " 'whiskers': [<matplotlib.lines.Line2D at 0x7f1a008bb250>,\n",
              "  <matplotlib.lines.Line2D at 0x7f1a008bb790>]}"
            ]
          },
          "metadata": {
            "tags": []
          },
          "execution_count": 129
        },
        {
          "output_type": "display_data",
          "data": {
            "image/png": "[encoded data removed]",
            "text/plain": [
              "<Figure size 432x288 with 1 Axes>"
            ]
          },
          "metadata": {
            "tags": [],
            "needs_background": "light"
          }
        }
      ]
    },
    {
      "cell_type": "code",
      "metadata": {
        "id": "8fmMAjxI10LP",
        "outputId": "c7669812-44d5-479a-e757-5f6c372fa2a8",
        "colab": {
          "base_uri": "https://localhost:8080/",
          "height": 297
        }
      },
      "source": [
        "## Tukkey ile winsorize edilmiş aykırı değerlerin sayısının tespiti\n",
        "\n",
        "esik_degerleri7 = pd.DataFrame()\n",
        "\n",
        "q75, q25 = np.percentile(winsorize_difference_cleaned, [75,25])\n",
        "caa = q75-q25\n",
        "\n",
        "for esik_degeri in np.arange(1,5,0.5):\n",
        "  min_deger = q25 - (caa*esik_degeri)\n",
        "  max_deger = q75 + (caa*esik_degeri)\n",
        "\n",
        "  aykırı_deger_sayısı = len((np.where((winsorize_difference_cleaned > max_deger) |\n",
        "                        (winsorize_difference_cleaned < min_deger))[0]))\n",
        "  \n",
        "  esik_degerleri7 = esik_degerleri7.append({\"esik_degeri\": esik_degeri, \"aykırı_deger_sayısı\" : aykırı_deger_sayısı}, ignore_index=True)\n",
        "esik_degerleri7"
      ],
      "execution_count": 131,
      "outputs": [
        {
          "output_type": "execute_result",
          "data": {
            "text/html": [
              "<div>\n",
              "<style scoped>\n",
              "    .dataframe tbody tr th:only-of-type {\n",
              "        vertical-align: middle;\n",
              "    }\n",
              "\n",
              "    .dataframe tbody tr th {\n",
              "        vertical-align: top;\n",
              "    }\n",
              "\n",
              "    .dataframe thead th {\n",
              "        text-align: right;\n",
              "    }\n",
              "</style>\n",
              "<table border=\"1\" class=\"dataframe\">\n",
              "  <thead>\n",
              "    <tr style=\"text-align: right;\">\n",
              "      <th></th>\n",
              "      <th>aykırı_deger_sayısı</th>\n",
              "      <th>esik_degeri</th>\n",
              "    </tr>\n",
              "  </thead>\n",
              "  <tbody>\n",
              "    <tr>\n",
              "      <th>0</th>\n",
              "      <td>288.0</td>\n",
              "      <td>1.0</td>\n",
              "    </tr>\n",
              "    <tr>\n",
              "      <th>1</th>\n",
              "      <td>0.0</td>\n",
              "      <td>1.5</td>\n",
              "    </tr>\n",
              "    <tr>\n",
              "      <th>2</th>\n",
              "      <td>0.0</td>\n",
              "      <td>2.0</td>\n",
              "    </tr>\n",
              "    <tr>\n",
              "      <th>3</th>\n",
              "      <td>0.0</td>\n",
              "      <td>2.5</td>\n",
              "    </tr>\n",
              "    <tr>\n",
              "      <th>4</th>\n",
              "      <td>0.0</td>\n",
              "      <td>3.0</td>\n",
              "    </tr>\n",
              "    <tr>\n",
              "      <th>5</th>\n",
              "      <td>0.0</td>\n",
              "      <td>3.5</td>\n",
              "    </tr>\n",
              "    <tr>\n",
              "      <th>6</th>\n",
              "      <td>0.0</td>\n",
              "      <td>4.0</td>\n",
              "    </tr>\n",
              "    <tr>\n",
              "      <th>7</th>\n",
              "      <td>0.0</td>\n",
              "      <td>4.5</td>\n",
              "    </tr>\n",
              "  </tbody>\n",
              "</table>\n",
              "</div>"
            ],
            "text/plain": [
              "   aykırı_deger_sayısı  esik_degeri\n",
              "0                288.0          1.0\n",
              "1                  0.0          1.5\n",
              "2                  0.0          2.0\n",
              "3                  0.0          2.5\n",
              "4                  0.0          3.0\n",
              "5                  0.0          3.5\n",
              "6                  0.0          4.0\n",
              "7                  0.0          4.5"
            ]
          },
          "metadata": {
            "tags": []
          },
          "execution_count": 131
        }
      ]
    },
    {
      "cell_type": "code",
      "metadata": {
        "id": "lLdYeHSG2uMJ"
      },
      "source": [
        "#5-Şimdi elimizde üçüncü ve ve dördüncü sorularda oluşturduğumuz iki farklı bütçe değişkeni var. Bu ikisi arasında fark görüyor musunuz?\n",
        "\n",
        "#Daha önce aykırı değerleri temizlenmiş feature'lardan yeni feature oluşturulduğuna daha az aykırı değerin temizlenebildiği görülmüştür.\n"
      ],
      "execution_count": null,
      "outputs": []
    },
    {
      "cell_type": "code",
      "metadata": {
        "id": "QOgS4qv83lVI"
      },
      "source": [
        "# 6 - Bizim için bütçe açığı çok önemli bir değişken olsaydı aykırı değerleri temizlemek için hangi yöntem daha iyi olurdu.\n",
        "# Üçüncü soruda uguladığınız yöntem mi yoksa dördüncü sorudaki yöntem mi?\n",
        "\n",
        "#CEVAP:3. sorudaki yöntem ile daha az aykırı değerin oluştuğu görülmüştür. 3. Sorudaki yöntemi tercih ederdim."
      ],
      "execution_count": null,
      "outputs": []
    }
  ]
}